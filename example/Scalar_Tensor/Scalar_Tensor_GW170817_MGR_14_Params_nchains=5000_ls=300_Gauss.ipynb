{
  "cells": [
    {
      "cell_type": "code",
      "execution_count": null,
      "metadata": {
        "id": "XEAUz7Zj-CMg",
        "colab": {
          "base_uri": "https://localhost:8080/"
        },
        "outputId": "c98c5f5d-2711-4987-9bd2-6ce41f84bbab"
      },
      "outputs": [
        {
          "output_type": "stream",
          "name": "stdout",
          "text": [
            "Collecting git+https://github.com/adil3319/jim_v2\n",
            "  Cloning https://github.com/adil3319/jim_v2 to /tmp/pip-req-build-qdw4crk7\n",
            "  Running command git clone --filter=blob:none --quiet https://github.com/adil3319/jim_v2 /tmp/pip-req-build-qdw4crk7\n",
            "  Resolved https://github.com/adil3319/jim_v2 to commit d1d22bae6e24e3ed45f4ffcc27a408ad5efd45e4\n",
            "  Installing build dependencies ... \u001b[?25l\u001b[?25hdone\n",
            "  Getting requirements to build wheel ... \u001b[?25l\u001b[?25hdone\n",
            "  Preparing metadata (pyproject.toml) ... \u001b[?25l\u001b[?25hdone\n",
            "Requirement already satisfied: astropy>=6.1.4 in /usr/local/lib/python3.11/dist-packages (from jimgw==0.2.0) (7.1.0)\n",
            "Collecting beartype>=0.19.0 (from jimgw==0.2.0)\n",
            "  Downloading beartype-0.21.0-py3-none-any.whl.metadata (33 kB)\n",
            "Collecting corner>=2.2.2 (from jimgw==0.2.0)\n",
            "  Downloading corner-2.2.3-py3-none-any.whl.metadata (2.2 kB)\n",
            "Collecting flowmc>=0.3.4 (from jimgw==0.2.0)\n",
            "  Downloading flowmc-0.4.4-py3-none-any.whl.metadata (13 kB)\n",
            "Collecting gwpy>=3.0.10 (from jimgw==0.2.0)\n",
            "  Downloading gwpy-3.0.12-py3-none-any.whl.metadata (4.9 kB)\n",
            "Collecting jax<=0.4.31,>=0.4.24 (from jimgw==0.2.0)\n",
            "  Downloading jax-0.4.31-py3-none-any.whl.metadata (22 kB)\n",
            "Collecting jaxtyping>=0.2.34 (from jimgw==0.2.0)\n",
            "  Downloading jaxtyping-0.3.2-py3-none-any.whl.metadata (7.0 kB)\n",
            "Requirement already satisfied: pytest>=8.3.3 in /usr/local/lib/python3.11/dist-packages (from jimgw==0.2.0) (8.3.5)\n",
            "Collecting ripplegw>=0.0.9 (from jimgw==0.2.0)\n",
            "  Downloading ripplegw-0.0.9-py3-none-any.whl.metadata (3.4 kB)\n",
            "Collecting typed-argument-parser>=1.10.1 (from jimgw==0.2.0)\n",
            "  Downloading typed_argument_parser-1.10.1-py3-none-any.whl.metadata (32 kB)\n",
            "Requirement already satisfied: numpy>=1.23.2 in /usr/local/lib/python3.11/dist-packages (from astropy>=6.1.4->jimgw==0.2.0) (2.0.2)\n",
            "Requirement already satisfied: pyerfa>=2.0.1.1 in /usr/local/lib/python3.11/dist-packages (from astropy>=6.1.4->jimgw==0.2.0) (2.0.1.5)\n",
            "Requirement already satisfied: astropy-iers-data>=0.2025.4.28.0.37.27 in /usr/local/lib/python3.11/dist-packages (from astropy>=6.1.4->jimgw==0.2.0) (0.2025.6.2.0.38.23)\n",
            "Requirement already satisfied: PyYAML>=6.0.0 in /usr/local/lib/python3.11/dist-packages (from astropy>=6.1.4->jimgw==0.2.0) (6.0.2)\n",
            "Requirement already satisfied: packaging>=22.0.0 in /usr/local/lib/python3.11/dist-packages (from astropy>=6.1.4->jimgw==0.2.0) (24.2)\n",
            "Requirement already satisfied: matplotlib>=2.1 in /usr/local/lib/python3.11/dist-packages (from corner>=2.2.2->jimgw==0.2.0) (3.10.0)\n",
            "Requirement already satisfied: chex>=0.1.87 in /usr/local/lib/python3.11/dist-packages (from flowmc>=0.3.4->jimgw==0.2.0) (0.1.89)\n",
            "Collecting equinox>=0.11.9 (from flowmc>=0.3.4->jimgw==0.2.0)\n",
            "  Downloading equinox-0.12.2-py3-none-any.whl.metadata (18 kB)\n",
            "INFO: pip is looking at multiple versions of flowmc to determine which version is compatible with other requirements. This could take a while.\n",
            "Collecting flowmc>=0.3.4 (from jimgw==0.2.0)\n",
            "  Downloading flowmc-0.4.2-py3-none-any.whl.metadata (12 kB)\n",
            "Collecting coveralls>=4.0.1 (from flowmc>=0.3.4->jimgw==0.2.0)\n",
            "  Downloading coveralls-4.0.1-py3-none-any.whl.metadata (5.3 kB)\n",
            "Collecting flowmc>=0.3.4 (from jimgw==0.2.0)\n",
            "  Downloading flowmc-0.4.1-py3-none-any.whl.metadata (7.0 kB)\n",
            "  Downloading flowmc-0.4.0-py3-none-any.whl.metadata (6.7 kB)\n",
            "  Downloading flowMC-0.3.4-py3-none-any.whl.metadata (4.5 kB)\n",
            "Requirement already satisfied: jaxlib>=0.4.12 in /usr/local/lib/python3.11/dist-packages (from flowmc>=0.3.4->jimgw==0.2.0) (0.5.1)\n",
            "Requirement already satisfied: optax>=0.1.5 in /usr/local/lib/python3.11/dist-packages (from flowmc>=0.3.4->jimgw==0.2.0) (0.2.4)\n",
            "Collecting evosax>=0.1.4 (from flowmc>=0.3.4->jimgw==0.2.0)\n",
            "  Downloading evosax-0.2.0-py3-none-any.whl.metadata (25 kB)\n",
            "Requirement already satisfied: tqdm in /usr/local/lib/python3.11/dist-packages (from flowmc>=0.3.4->jimgw==0.2.0) (4.67.1)\n",
            "Collecting dateparser>=1.1.4 (from gwpy>=3.0.10->jimgw==0.2.0)\n",
            "  Downloading dateparser-1.2.1-py3-none-any.whl.metadata (29 kB)\n",
            "Collecting dqsegdb2 (from gwpy>=3.0.10->jimgw==0.2.0)\n",
            "  Downloading dqsegdb2-1.3.0-py3-none-any.whl.metadata (3.6 kB)\n",
            "Collecting gwdatafind>=1.1.0 (from gwpy>=3.0.10->jimgw==0.2.0)\n",
            "  Downloading gwdatafind-2.0.0-py3-none-any.whl.metadata (3.6 kB)\n",
            "Collecting gwosc>=0.5.3 (from gwpy>=3.0.10->jimgw==0.2.0)\n",
            "  Downloading gwosc-0.8.1-py3-none-any.whl.metadata (6.2 kB)\n",
            "Requirement already satisfied: h5py>=3.0.0 in /usr/local/lib/python3.11/dist-packages (from gwpy>=3.0.10->jimgw==0.2.0) (3.13.0)\n",
            "Collecting igwn-segments>=2.0.0 (from gwpy>=3.0.10->jimgw==0.2.0)\n",
            "  Downloading igwn_segments-2.1.0-cp311-cp311-manylinux_2_5_x86_64.manylinux1_x86_64.manylinux_2_28_x86_64.whl.metadata (2.0 kB)\n",
            "Collecting ligotimegps>=1.2.1 (from gwpy>=3.0.10->jimgw==0.2.0)\n",
            "  Downloading ligotimegps-2.0.1-py2.py3-none-any.whl.metadata (2.6 kB)\n",
            "Requirement already satisfied: python-dateutil in /usr/local/lib/python3.11/dist-packages (from gwpy>=3.0.10->jimgw==0.2.0) (2.9.0.post0)\n",
            "Requirement already satisfied: requests>=2.20.0 in /usr/local/lib/python3.11/dist-packages (from gwpy>=3.0.10->jimgw==0.2.0) (2.32.3)\n",
            "Requirement already satisfied: scipy>=1.6.0 in /usr/local/lib/python3.11/dist-packages (from gwpy>=3.0.10->jimgw==0.2.0) (1.15.3)\n",
            "Collecting jaxlib>=0.4.12 (from flowmc>=0.3.4->jimgw==0.2.0)\n",
            "  Downloading jaxlib-0.4.31-cp311-cp311-manylinux2014_x86_64.whl.metadata (983 bytes)\n",
            "Requirement already satisfied: ml-dtypes>=0.2.0 in /usr/local/lib/python3.11/dist-packages (from jax<=0.4.31,>=0.4.24->jimgw==0.2.0) (0.4.1)\n",
            "Requirement already satisfied: opt-einsum in /usr/local/lib/python3.11/dist-packages (from jax<=0.4.31,>=0.4.24->jimgw==0.2.0) (3.4.0)\n",
            "Collecting wadler-lindig>=0.1.3 (from jaxtyping>=0.2.34->jimgw==0.2.0)\n",
            "  Downloading wadler_lindig-0.1.6-py3-none-any.whl.metadata (17 kB)\n",
            "Requirement already satisfied: iniconfig in /usr/local/lib/python3.11/dist-packages (from pytest>=8.3.3->jimgw==0.2.0) (2.1.0)\n",
            "Requirement already satisfied: pluggy<2,>=1.5 in /usr/local/lib/python3.11/dist-packages (from pytest>=8.3.3->jimgw==0.2.0) (1.6.0)\n",
            "Requirement already satisfied: docstring-parser>=0.15 in /usr/local/lib/python3.11/dist-packages (from typed-argument-parser>=1.10.1->jimgw==0.2.0) (0.16)\n",
            "Collecting typing-inspect>=0.7.1 (from typed-argument-parser>=1.10.1->jimgw==0.2.0)\n",
            "  Downloading typing_inspect-0.9.0-py3-none-any.whl.metadata (1.5 kB)\n",
            "Requirement already satisfied: pytz>=2024.2 in /usr/local/lib/python3.11/dist-packages (from dateparser>=1.1.4->gwpy>=3.0.10->jimgw==0.2.0) (2025.2)\n",
            "Requirement already satisfied: regex!=2019.02.19,!=2021.8.27,>=2015.06.24 in /usr/local/lib/python3.11/dist-packages (from dateparser>=1.1.4->gwpy>=3.0.10->jimgw==0.2.0) (2024.11.6)\n",
            "Requirement already satisfied: tzlocal>=0.2 in /usr/local/lib/python3.11/dist-packages (from dateparser>=1.1.4->gwpy>=3.0.10->jimgw==0.2.0) (5.3.1)\n",
            "INFO: pip is looking at multiple versions of equinox to determine which version is compatible with other requirements. This could take a while.\n",
            "Collecting equinox>=0.10.6 (from flowmc>=0.3.4->jimgw==0.2.0)\n",
            "  Downloading equinox-0.12.1-py3-none-any.whl.metadata (18 kB)\n",
            "  Downloading equinox-0.12.0-py3-none-any.whl.metadata (18 kB)\n",
            "  Downloading equinox-0.11.12-py3-none-any.whl.metadata (18 kB)\n",
            "  Downloading equinox-0.11.11-py3-none-any.whl.metadata (18 kB)\n",
            "  Downloading equinox-0.11.10-py3-none-any.whl.metadata (18 kB)\n",
            "Requirement already satisfied: typing-extensions>=4.5.0 in /usr/local/lib/python3.11/dist-packages (from equinox>=0.10.6->flowmc>=0.3.4->jimgw==0.2.0) (4.14.0)\n",
            "INFO: pip is looking at multiple versions of evosax to determine which version is compatible with other requirements. This could take a while.\n",
            "Collecting evosax>=0.1.4 (from flowmc>=0.3.4->jimgw==0.2.0)\n",
            "  Downloading evosax-0.1.6-py3-none-any.whl.metadata (26 kB)\n",
            "Requirement already satisfied: flax in /usr/local/lib/python3.11/dist-packages (from evosax>=0.1.4->flowmc>=0.3.4->jimgw==0.2.0) (0.10.6)\n",
            "Collecting dotmap (from evosax>=0.1.4->flowmc>=0.3.4->jimgw==0.2.0)\n",
            "  Downloading dotmap-1.3.30-py3-none-any.whl.metadata (3.2 kB)\n",
            "Collecting igwn-auth-utils>=0.3.1 (from gwdatafind>=1.1.0->gwpy>=3.0.10->jimgw==0.2.0)\n",
            "  Downloading igwn_auth_utils-1.4.0-py3-none-any.whl.metadata (4.2 kB)\n",
            "Requirement already satisfied: contourpy>=1.0.1 in /usr/local/lib/python3.11/dist-packages (from matplotlib>=2.1->corner>=2.2.2->jimgw==0.2.0) (1.3.2)\n",
            "Requirement already satisfied: cycler>=0.10 in /usr/local/lib/python3.11/dist-packages (from matplotlib>=2.1->corner>=2.2.2->jimgw==0.2.0) (0.12.1)\n",
            "Requirement already satisfied: fonttools>=4.22.0 in /usr/local/lib/python3.11/dist-packages (from matplotlib>=2.1->corner>=2.2.2->jimgw==0.2.0) (4.58.1)\n",
            "Requirement already satisfied: kiwisolver>=1.3.1 in /usr/local/lib/python3.11/dist-packages (from matplotlib>=2.1->corner>=2.2.2->jimgw==0.2.0) (1.4.8)\n",
            "Requirement already satisfied: pillow>=8 in /usr/local/lib/python3.11/dist-packages (from matplotlib>=2.1->corner>=2.2.2->jimgw==0.2.0) (11.2.1)\n",
            "Requirement already satisfied: pyparsing>=2.3.1 in /usr/local/lib/python3.11/dist-packages (from matplotlib>=2.1->corner>=2.2.2->jimgw==0.2.0) (3.2.3)\n",
            "Requirement already satisfied: absl-py>=0.7.1 in /usr/local/lib/python3.11/dist-packages (from optax>=0.1.5->flowmc>=0.3.4->jimgw==0.2.0) (1.4.0)\n",
            "Requirement already satisfied: etils[epy] in /usr/local/lib/python3.11/dist-packages (from optax>=0.1.5->flowmc>=0.3.4->jimgw==0.2.0) (1.12.2)\n",
            "Requirement already satisfied: six>=1.5 in /usr/local/lib/python3.11/dist-packages (from python-dateutil->gwpy>=3.0.10->jimgw==0.2.0) (1.17.0)\n",
            "Requirement already satisfied: charset-normalizer<4,>=2 in /usr/local/lib/python3.11/dist-packages (from requests>=2.20.0->gwpy>=3.0.10->jimgw==0.2.0) (3.4.2)\n",
            "Requirement already satisfied: idna<4,>=2.5 in /usr/local/lib/python3.11/dist-packages (from requests>=2.20.0->gwpy>=3.0.10->jimgw==0.2.0) (3.10)\n",
            "Requirement already satisfied: urllib3<3,>=1.21.1 in /usr/local/lib/python3.11/dist-packages (from requests>=2.20.0->gwpy>=3.0.10->jimgw==0.2.0) (2.4.0)\n",
            "Requirement already satisfied: certifi>=2017.4.17 in /usr/local/lib/python3.11/dist-packages (from requests>=2.20.0->gwpy>=3.0.10->jimgw==0.2.0) (2025.4.26)\n",
            "Collecting mypy-extensions>=0.3.0 (from typing-inspect>=0.7.1->typed-argument-parser>=1.10.1->jimgw==0.2.0)\n",
            "  Downloading mypy_extensions-1.1.0-py3-none-any.whl.metadata (1.1 kB)\n",
            "Requirement already satisfied: click>=6.7 in /usr/local/lib/python3.11/dist-packages (from dqsegdb2->gwpy>=3.0.10->jimgw==0.2.0) (8.2.1)\n",
            "Requirement already satisfied: toolz>=0.9.0 in /usr/local/lib/python3.11/dist-packages (from chex>=0.1.87->flowmc>=0.3.4->jimgw==0.2.0) (0.12.1)\n",
            "Collecting cryptography>=44.0.1 (from igwn-auth-utils>=0.3.1->gwdatafind>=1.1.0->gwpy>=3.0.10->jimgw==0.2.0)\n",
            "  Downloading cryptography-45.0.4-cp311-abi3-manylinux_2_34_x86_64.whl.metadata (5.7 kB)\n",
            "Collecting safe-netrc>=1.0 (from igwn-auth-utils>=0.3.1->gwdatafind>=1.1.0->gwpy>=3.0.10->jimgw==0.2.0)\n",
            "  Downloading safe_netrc-1.0.1-py3-none-any.whl.metadata (1.9 kB)\n",
            "Collecting scitokens>=1.8 (from igwn-auth-utils>=0.3.1->gwdatafind>=1.1.0->gwpy>=3.0.10->jimgw==0.2.0)\n",
            "  Downloading scitokens-1.8.1-py3-none-any.whl.metadata (12 kB)\n",
            "INFO: pip is looking at multiple versions of flax to determine which version is compatible with other requirements. This could take a while.\n",
            "Collecting flax (from evosax>=0.1.4->flowmc>=0.3.4->jimgw==0.2.0)\n",
            "  Downloading flax-0.10.5-py3-none-any.whl.metadata (11 kB)\n",
            "  Downloading flax-0.10.4-py3-none-any.whl.metadata (11 kB)\n",
            "Requirement already satisfied: msgpack in /usr/local/lib/python3.11/dist-packages (from flax->evosax>=0.1.4->flowmc>=0.3.4->jimgw==0.2.0) (1.1.0)\n",
            "Requirement already satisfied: orbax-checkpoint in /usr/local/lib/python3.11/dist-packages (from flax->evosax>=0.1.4->flowmc>=0.3.4->jimgw==0.2.0) (0.11.13)\n",
            "Requirement already satisfied: tensorstore in /usr/local/lib/python3.11/dist-packages (from flax->evosax>=0.1.4->flowmc>=0.3.4->jimgw==0.2.0) (0.1.74)\n",
            "Requirement already satisfied: rich>=11.1 in /usr/local/lib/python3.11/dist-packages (from flax->evosax>=0.1.4->flowmc>=0.3.4->jimgw==0.2.0) (13.9.4)\n",
            "Requirement already satisfied: treescope>=0.1.7 in /usr/local/lib/python3.11/dist-packages (from flax->evosax>=0.1.4->flowmc>=0.3.4->jimgw==0.2.0) (0.1.9)\n",
            "Requirement already satisfied: cffi>=1.14 in /usr/local/lib/python3.11/dist-packages (from cryptography>=44.0.1->igwn-auth-utils>=0.3.1->gwdatafind>=1.1.0->gwpy>=3.0.10->jimgw==0.2.0) (1.17.1)\n",
            "Requirement already satisfied: markdown-it-py>=2.2.0 in /usr/local/lib/python3.11/dist-packages (from rich>=11.1->flax->evosax>=0.1.4->flowmc>=0.3.4->jimgw==0.2.0) (3.0.0)\n",
            "Requirement already satisfied: pygments<3.0.0,>=2.13.0 in /usr/local/lib/python3.11/dist-packages (from rich>=11.1->flax->evosax>=0.1.4->flowmc>=0.3.4->jimgw==0.2.0) (2.19.1)\n",
            "Requirement already satisfied: PyJWT>=1.6.1 in /usr/local/lib/python3.11/dist-packages (from scitokens>=1.8->igwn-auth-utils>=0.3.1->gwdatafind>=1.1.0->gwpy>=3.0.10->jimgw==0.2.0) (2.10.1)\n",
            "INFO: pip is looking at multiple versions of orbax-checkpoint to determine which version is compatible with other requirements. This could take a while.\n",
            "Collecting orbax-checkpoint (from flax->evosax>=0.1.4->flowmc>=0.3.4->jimgw==0.2.0)\n",
            "  Downloading orbax_checkpoint-0.11.14-py3-none-any.whl.metadata (2.0 kB)\n",
            "  Downloading orbax_checkpoint-0.11.12-py3-none-any.whl.metadata (2.0 kB)\n",
            "  Downloading orbax_checkpoint-0.11.11-py3-none-any.whl.metadata (2.0 kB)\n",
            "  Downloading orbax_checkpoint-0.11.10-py3-none-any.whl.metadata (2.0 kB)\n",
            "  Downloading orbax_checkpoint-0.11.9-py3-none-any.whl.metadata (2.0 kB)\n",
            "  Downloading orbax_checkpoint-0.11.8-py3-none-any.whl.metadata (2.0 kB)\n",
            "  Downloading orbax_checkpoint-0.11.7-py3-none-any.whl.metadata (2.0 kB)\n",
            "INFO: pip is still looking at multiple versions of orbax-checkpoint to determine which version is compatible with other requirements. This could take a while.\n",
            "  Downloading orbax_checkpoint-0.11.6-py3-none-any.whl.metadata (1.9 kB)\n",
            "  Downloading orbax_checkpoint-0.11.5-py3-none-any.whl.metadata (1.9 kB)\n",
            "  Downloading orbax_checkpoint-0.11.4-py3-none-any.whl.metadata (1.9 kB)\n",
            "  Downloading orbax_checkpoint-0.11.3-py3-none-any.whl.metadata (1.9 kB)\n",
            "  Downloading orbax_checkpoint-0.11.2-py3-none-any.whl.metadata (1.9 kB)\n",
            "INFO: This is taking longer than usual. You might need to provide the dependency resolver with stricter constraints to reduce runtime. See https://pip.pypa.io/warnings/backtracking for guidance. If you want to abort this run, press Ctrl + C.\n",
            "  Downloading orbax_checkpoint-0.11.1-py3-none-any.whl.metadata (1.9 kB)\n",
            "  Downloading orbax_checkpoint-0.11.0-py3-none-any.whl.metadata (1.9 kB)\n",
            "  Downloading orbax_checkpoint-0.10.3-py3-none-any.whl.metadata (1.9 kB)\n",
            "  Downloading orbax_checkpoint-0.10.2-py3-none-any.whl.metadata (1.9 kB)\n",
            "  Downloading orbax_checkpoint-0.10.1-py3-none-any.whl.metadata (1.9 kB)\n",
            "  Downloading orbax_checkpoint-0.10.0-py3-none-any.whl.metadata (1.9 kB)\n",
            "  Downloading orbax_checkpoint-0.9.1-py3-none-any.whl.metadata (1.8 kB)\n",
            "  Downloading orbax_checkpoint-0.9.0-py3-none-any.whl.metadata (1.8 kB)\n",
            "  Downloading orbax_checkpoint-0.8.0-py3-none-any.whl.metadata (1.8 kB)\n",
            "  Downloading orbax_checkpoint-0.7.0-py3-none-any.whl.metadata (1.8 kB)\n",
            "  Downloading orbax_checkpoint-0.6.4-py3-none-any.whl.metadata (1.8 kB)\n",
            "Requirement already satisfied: nest_asyncio in /usr/local/lib/python3.11/dist-packages (from orbax-checkpoint->flax->evosax>=0.1.4->flowmc>=0.3.4->jimgw==0.2.0) (1.6.0)\n",
            "Requirement already satisfied: protobuf in /usr/local/lib/python3.11/dist-packages (from orbax-checkpoint->flax->evosax>=0.1.4->flowmc>=0.3.4->jimgw==0.2.0) (5.29.5)\n",
            "Requirement already satisfied: humanize in /usr/local/lib/python3.11/dist-packages (from orbax-checkpoint->flax->evosax>=0.1.4->flowmc>=0.3.4->jimgw==0.2.0) (4.12.3)\n",
            "Requirement already satisfied: pycparser in /usr/local/lib/python3.11/dist-packages (from cffi>=1.14->cryptography>=44.0.1->igwn-auth-utils>=0.3.1->gwdatafind>=1.1.0->gwpy>=3.0.10->jimgw==0.2.0) (2.22)\n",
            "Requirement already satisfied: mdurl~=0.1 in /usr/local/lib/python3.11/dist-packages (from markdown-it-py>=2.2.0->rich>=11.1->flax->evosax>=0.1.4->flowmc>=0.3.4->jimgw==0.2.0) (0.1.2)\n",
            "Requirement already satisfied: fsspec in /usr/local/lib/python3.11/dist-packages (from etils[epy]->optax>=0.1.5->flowmc>=0.3.4->jimgw==0.2.0) (2025.3.2)\n",
            "Requirement already satisfied: importlib_resources in /usr/local/lib/python3.11/dist-packages (from etils[epy]->optax>=0.1.5->flowmc>=0.3.4->jimgw==0.2.0) (6.5.2)\n",
            "Requirement already satisfied: zipp in /usr/local/lib/python3.11/dist-packages (from etils[epy]->optax>=0.1.5->flowmc>=0.3.4->jimgw==0.2.0) (3.22.0)\n",
            "Downloading beartype-0.21.0-py3-none-any.whl (1.2 MB)\n",
            "\u001b[2K   \u001b[90m━━━━━━━━━━━━━━━━━━━━━━━━━━━━━━━━━━━━━━━━\u001b[0m \u001b[32m1.2/1.2 MB\u001b[0m \u001b[31m20.3 MB/s\u001b[0m eta \u001b[36m0:00:00\u001b[0m\n",
            "\u001b[?25hDownloading corner-2.2.3-py3-none-any.whl (15 kB)\n",
            "Downloading flowMC-0.3.4-py3-none-any.whl (37 kB)\n",
            "Downloading gwpy-3.0.12-py3-none-any.whl (1.4 MB)\n",
            "\u001b[2K   \u001b[90m━━━━━━━━━━━━━━━━━━━━━━━━━━━━━━━━━━━━━━━━\u001b[0m \u001b[32m1.4/1.4 MB\u001b[0m \u001b[31m51.8 MB/s\u001b[0m eta \u001b[36m0:00:00\u001b[0m\n",
            "\u001b[?25hDownloading jax-0.4.31-py3-none-any.whl (2.0 MB)\n",
            "\u001b[2K   \u001b[90m━━━━━━━━━━━━━━━━━━━━━━━━━━━━━━━━━━━━━━━━\u001b[0m \u001b[32m2.0/2.0 MB\u001b[0m \u001b[31m62.9 MB/s\u001b[0m eta \u001b[36m0:00:00\u001b[0m\n",
            "\u001b[?25hDownloading jaxtyping-0.3.2-py3-none-any.whl (55 kB)\n",
            "\u001b[2K   \u001b[90m━━━━━━━━━━━━━━━━━━━━━━━━━━━━━━━━━━━━━━━━\u001b[0m \u001b[32m55.4/55.4 kB\u001b[0m \u001b[31m5.4 MB/s\u001b[0m eta \u001b[36m0:00:00\u001b[0m\n",
            "\u001b[?25hDownloading ripplegw-0.0.9-py3-none-any.whl (906 kB)\n",
            "\u001b[2K   \u001b[90m━━━━━━━━━━━━━━━━━━━━━━━━━━━━━━━━━━━━━━━━\u001b[0m \u001b[32m906.7/906.7 kB\u001b[0m \u001b[31m61.2 MB/s\u001b[0m eta \u001b[36m0:00:00\u001b[0m\n",
            "\u001b[?25hDownloading typed_argument_parser-1.10.1-py3-none-any.whl (30 kB)\n",
            "Downloading dateparser-1.2.1-py3-none-any.whl (295 kB)\n",
            "\u001b[2K   \u001b[90m━━━━━━━━━━━━━━━━━━━━━━━━━━━━━━━━━━━━━━━━\u001b[0m \u001b[32m295.7/295.7 kB\u001b[0m \u001b[31m24.9 MB/s\u001b[0m eta \u001b[36m0:00:00\u001b[0m\n",
            "\u001b[?25hDownloading equinox-0.11.10-py3-none-any.whl (178 kB)\n",
            "\u001b[2K   \u001b[90m━━━━━━━━━━━━━━━━━━━━━━━━━━━━━━━━━━━━━━━━\u001b[0m \u001b[32m178.9/178.9 kB\u001b[0m \u001b[31m19.8 MB/s\u001b[0m eta \u001b[36m0:00:00\u001b[0m\n",
            "\u001b[?25hDownloading evosax-0.1.6-py3-none-any.whl (240 kB)\n",
            "\u001b[2K   \u001b[90m━━━━━━━━━━━━━━━━━━━━━━━━━━━━━━━━━━━━━━━━\u001b[0m \u001b[32m240.4/240.4 kB\u001b[0m \u001b[31m24.5 MB/s\u001b[0m eta \u001b[36m0:00:00\u001b[0m\n",
            "\u001b[?25hDownloading gwdatafind-2.0.0-py3-none-any.whl (39 kB)\n",
            "Downloading gwosc-0.8.1-py3-none-any.whl (32 kB)\n",
            "Downloading igwn_segments-2.1.0-cp311-cp311-manylinux_2_5_x86_64.manylinux1_x86_64.manylinux_2_28_x86_64.whl (128 kB)\n",
            "\u001b[2K   \u001b[90m━━━━━━━━━━━━━━━━━━━━━━━━━━━━━━━━━━━━━━━━\u001b[0m \u001b[32m128.6/128.6 kB\u001b[0m \u001b[31m11.1 MB/s\u001b[0m eta \u001b[36m0:00:00\u001b[0m\n",
            "\u001b[?25hDownloading jaxlib-0.4.31-cp311-cp311-manylinux2014_x86_64.whl (88.1 MB)\n",
            "\u001b[2K   \u001b[90m━━━━━━━━━━━━━━━━━━━━━━━━━━━━━━━━━━━━━━━━\u001b[0m \u001b[32m88.1/88.1 MB\u001b[0m \u001b[31m17.4 MB/s\u001b[0m eta \u001b[36m0:00:00\u001b[0m\n",
            "\u001b[?25hDownloading ligotimegps-2.0.1-py2.py3-none-any.whl (19 kB)\n",
            "Downloading typing_inspect-0.9.0-py3-none-any.whl (8.8 kB)\n",
            "Downloading wadler_lindig-0.1.6-py3-none-any.whl (20 kB)\n",
            "Downloading dqsegdb2-1.3.0-py3-none-any.whl (27 kB)\n",
            "Downloading igwn_auth_utils-1.4.0-py3-none-any.whl (34 kB)\n",
            "Downloading mypy_extensions-1.1.0-py3-none-any.whl (5.0 kB)\n",
            "Downloading dotmap-1.3.30-py3-none-any.whl (11 kB)\n",
            "Downloading flax-0.10.4-py3-none-any.whl (451 kB)\n",
            "\u001b[2K   \u001b[90m━━━━━━━━━━━━━━━━━━━━━━━━━━━━━━━━━━━━━━━━\u001b[0m \u001b[32m451.8/451.8 kB\u001b[0m \u001b[31m31.2 MB/s\u001b[0m eta \u001b[36m0:00:00\u001b[0m\n",
            "\u001b[?25hDownloading cryptography-45.0.4-cp311-abi3-manylinux_2_34_x86_64.whl (4.5 MB)\n",
            "\u001b[2K   \u001b[90m━━━━━━━━━━━━━━━━━━━━━━━━━━━━━━━━━━━━━━━━\u001b[0m \u001b[32m4.5/4.5 MB\u001b[0m \u001b[31m75.5 MB/s\u001b[0m eta \u001b[36m0:00:00\u001b[0m\n",
            "\u001b[?25hDownloading safe_netrc-1.0.1-py3-none-any.whl (10 kB)\n",
            "Downloading scitokens-1.8.1-py3-none-any.whl (31 kB)\n",
            "Downloading orbax_checkpoint-0.6.4-py3-none-any.whl (270 kB)\n",
            "\u001b[2K   \u001b[90m━━━━━━━━━━━━━━━━━━━━━━━━━━━━━━━━━━━━━━━━\u001b[0m \u001b[32m270.5/270.5 kB\u001b[0m \u001b[31m24.1 MB/s\u001b[0m eta \u001b[36m0:00:00\u001b[0m\n",
            "\u001b[?25hBuilding wheels for collected packages: jimgw\n",
            "  Building wheel for jimgw (pyproject.toml) ... \u001b[?25l\u001b[?25hdone\n",
            "  Created wheel for jimgw: filename=jimgw-0.2.0-py3-none-any.whl size=39241 sha256=0393dc026ef3cdf040243211e5ad932ae728eb7c8c9a9f620eb384b76ce35679\n",
            "  Stored in directory: /tmp/pip-ephem-wheel-cache-m_gbocyj/wheels/a8/26/e8/7bbcd08faacce27d8a607cdaa65b30896198d95b14fa3a9b10\n",
            "Successfully built jimgw\n",
            "Installing collected packages: dotmap, wadler-lindig, safe-netrc, mypy-extensions, ligotimegps, igwn-segments, beartype, typing-inspect, jaxtyping, jaxlib, gwosc, dateparser, cryptography, typed-argument-parser, scitokens, jax, corner, ripplegw, orbax-checkpoint, igwn-auth-utils, equinox, gwdatafind, dqsegdb2, gwpy, flax, evosax, flowmc, jimgw\n",
            "  Attempting uninstall: jaxlib\n",
            "    Found existing installation: jaxlib 0.5.1\n",
            "    Uninstalling jaxlib-0.5.1:\n",
            "      Successfully uninstalled jaxlib-0.5.1\n",
            "  Attempting uninstall: cryptography\n",
            "    Found existing installation: cryptography 43.0.3\n",
            "    Uninstalling cryptography-43.0.3:\n",
            "      Successfully uninstalled cryptography-43.0.3\n",
            "  Attempting uninstall: jax\n",
            "    Found existing installation: jax 0.5.2\n",
            "    Uninstalling jax-0.5.2:\n",
            "      Successfully uninstalled jax-0.5.2\n",
            "  Attempting uninstall: orbax-checkpoint\n",
            "    Found existing installation: orbax-checkpoint 0.11.13\n",
            "    Uninstalling orbax-checkpoint-0.11.13:\n",
            "      Successfully uninstalled orbax-checkpoint-0.11.13\n",
            "  Attempting uninstall: flax\n",
            "    Found existing installation: flax 0.10.6\n",
            "    Uninstalling flax-0.10.6:\n",
            "      Successfully uninstalled flax-0.10.6\n",
            "\u001b[31mERROR: pip's dependency resolver does not currently take into account all the packages that are installed. This behaviour is the source of the following dependency conflicts.\n",
            "pydrive2 1.21.3 requires cryptography<44, but you have cryptography 45.0.4 which is incompatible.\n",
            "pyopenssl 24.2.1 requires cryptography<44,>=41.0.5, but you have cryptography 45.0.4 which is incompatible.\u001b[0m\u001b[31m\n",
            "\u001b[0mSuccessfully installed beartype-0.21.0 corner-2.2.3 cryptography-45.0.4 dateparser-1.2.1 dotmap-1.3.30 dqsegdb2-1.3.0 equinox-0.11.10 evosax-0.1.6 flax-0.10.4 flowmc-0.3.4 gwdatafind-2.0.0 gwosc-0.8.1 gwpy-3.0.12 igwn-auth-utils-1.4.0 igwn-segments-2.1.0 jax-0.4.31 jaxlib-0.4.31 jaxtyping-0.3.2 jimgw-0.2.0 ligotimegps-2.0.1 mypy-extensions-1.1.0 orbax-checkpoint-0.6.4 ripplegw-0.0.9 safe-netrc-1.0.1 scitokens-1.8.1 typed-argument-parser-1.10.1 typing-inspect-0.9.0 wadler-lindig-0.1.6\n"
          ]
        }
      ],
      "source": [
        "!pip install git+https://github.com/adil3319/jim_v2\n",
        "#!pip install jimGW"
      ]
    },
    {
      "cell_type": "code",
      "execution_count": null,
      "metadata": {
        "id": "FMe9S-SsRWJd",
        "colab": {
          "base_uri": "https://localhost:8080/"
        },
        "outputId": "64e41262-a049-4c21-85f5-15dc39fadfb6"
      },
      "outputs": [
        {
          "output_type": "stream",
          "name": "stdout",
          "text": [
            "Looking in links: https://storage.googleapis.com/jax-releases/jax_cuda_releases.html\n",
            "Requirement already satisfied: jax[cuda] in /usr/local/lib/python3.11/dist-packages (0.4.31)\n",
            "Collecting jax[cuda]\n",
            "  Downloading jax-0.6.1-py3-none-any.whl.metadata (13 kB)\n",
            "Collecting jaxlib<=0.6.1,>=0.6.1 (from jax[cuda])\n",
            "  Downloading jaxlib-0.6.1-cp311-cp311-manylinux2014_x86_64.whl.metadata (1.2 kB)\n",
            "Collecting ml_dtypes>=0.5.0 (from jax[cuda])\n",
            "  Downloading ml_dtypes-0.5.1-cp311-cp311-manylinux_2_17_x86_64.manylinux2014_x86_64.whl.metadata (21 kB)\n",
            "Requirement already satisfied: numpy>=1.25 in /usr/local/lib/python3.11/dist-packages (from jax[cuda]) (2.0.2)\n",
            "Requirement already satisfied: opt_einsum in /usr/local/lib/python3.11/dist-packages (from jax[cuda]) (3.4.0)\n",
            "Requirement already satisfied: scipy>=1.11.1 in /usr/local/lib/python3.11/dist-packages (from jax[cuda]) (1.15.3)\n",
            "Collecting jax-cuda12-plugin<=0.6.1,>=0.6.1 (from jax-cuda12-plugin[with-cuda]<=0.6.1,>=0.6.1; extra == \"cuda\"->jax[cuda])\n",
            "  Downloading jax_cuda12_plugin-0.6.1-cp311-cp311-manylinux2014_x86_64.whl.metadata (1.5 kB)\n",
            "Collecting jax-cuda12-pjrt==0.6.1 (from jax-cuda12-plugin<=0.6.1,>=0.6.1->jax-cuda12-plugin[with-cuda]<=0.6.1,>=0.6.1; extra == \"cuda\"->jax[cuda])\n",
            "  Downloading jax_cuda12_pjrt-0.6.1-py3-none-manylinux2014_x86_64.whl.metadata (492 bytes)\n",
            "Requirement already satisfied: nvidia-cublas-cu12<12.9,>=12.1.3.1 in /usr/local/lib/python3.11/dist-packages (from jax-cuda12-plugin[with-cuda]<=0.6.1,>=0.6.1; extra == \"cuda\"->jax[cuda]) (12.5.3.2)\n",
            "Requirement already satisfied: nvidia-cuda-cupti-cu12>=12.1.105 in /usr/local/lib/python3.11/dist-packages (from jax-cuda12-plugin[with-cuda]<=0.6.1,>=0.6.1; extra == \"cuda\"->jax[cuda]) (12.5.82)\n",
            "Collecting nvidia-cuda-nvcc-cu12>=12.6.85 (from jax-cuda12-plugin[with-cuda]<=0.6.1,>=0.6.1; extra == \"cuda\"->jax[cuda])\n",
            "  Downloading nvidia_cuda_nvcc_cu12-12.9.86-py3-none-manylinux2010_x86_64.manylinux_2_12_x86_64.whl.metadata (1.7 kB)\n",
            "Requirement already satisfied: nvidia-cuda-runtime-cu12>=12.1.105 in /usr/local/lib/python3.11/dist-packages (from jax-cuda12-plugin[with-cuda]<=0.6.1,>=0.6.1; extra == \"cuda\"->jax[cuda]) (12.5.82)\n",
            "Collecting nvidia-cudnn-cu12<10.0,>=9.8 (from jax-cuda12-plugin[with-cuda]<=0.6.1,>=0.6.1; extra == \"cuda\"->jax[cuda])\n",
            "  Downloading nvidia_cudnn_cu12-9.10.2.21-py3-none-manylinux_2_27_x86_64.whl.metadata (1.8 kB)\n",
            "Requirement already satisfied: nvidia-cufft-cu12>=11.0.2.54 in /usr/local/lib/python3.11/dist-packages (from jax-cuda12-plugin[with-cuda]<=0.6.1,>=0.6.1; extra == \"cuda\"->jax[cuda]) (11.2.3.61)\n",
            "Requirement already satisfied: nvidia-cusolver-cu12>=11.4.5.107 in /usr/local/lib/python3.11/dist-packages (from jax-cuda12-plugin[with-cuda]<=0.6.1,>=0.6.1; extra == \"cuda\"->jax[cuda]) (11.6.3.83)\n",
            "Requirement already satisfied: nvidia-cusparse-cu12>=12.1.0.106 in /usr/local/lib/python3.11/dist-packages (from jax-cuda12-plugin[with-cuda]<=0.6.1,>=0.6.1; extra == \"cuda\"->jax[cuda]) (12.5.1.3)\n",
            "Requirement already satisfied: nvidia-nccl-cu12>=2.18.1 in /usr/local/lib/python3.11/dist-packages (from jax-cuda12-plugin[with-cuda]<=0.6.1,>=0.6.1; extra == \"cuda\"->jax[cuda]) (2.21.5)\n",
            "Requirement already satisfied: nvidia-nvjitlink-cu12>=12.1.105 in /usr/local/lib/python3.11/dist-packages (from jax-cuda12-plugin[with-cuda]<=0.6.1,>=0.6.1; extra == \"cuda\"->jax[cuda]) (12.5.82)\n",
            "Collecting nvidia-nvshmem-cu12>=3.2.5 (from jax-cuda12-plugin[with-cuda]<=0.6.1,>=0.6.1; extra == \"cuda\"->jax[cuda])\n",
            "  Downloading nvidia_nvshmem_cu12-3.2.5-py3-none-manylinux2014_x86_64.manylinux_2_17_x86_64.whl.metadata (2.1 kB)\n",
            "Downloading jax_cuda12_plugin-0.6.1-cp311-cp311-manylinux2014_x86_64.whl (15.8 MB)\n",
            "\u001b[2K   \u001b[90m━━━━━━━━━━━━━━━━━━━━━━━━━━━━━━━━━━━━━━━━\u001b[0m \u001b[32m15.8/15.8 MB\u001b[0m \u001b[31m75.5 MB/s\u001b[0m eta \u001b[36m0:00:00\u001b[0m\n",
            "\u001b[?25hDownloading jax_cuda12_pjrt-0.6.1-py3-none-manylinux2014_x86_64.whl (124.3 MB)\n",
            "\u001b[2K   \u001b[90m━━━━━━━━━━━━━━━━━━━━━━━━━━━━━━━━━━━━━━━━\u001b[0m \u001b[32m124.3/124.3 MB\u001b[0m \u001b[31m16.6 MB/s\u001b[0m eta \u001b[36m0:00:00\u001b[0m\n",
            "\u001b[?25hDownloading jaxlib-0.6.1-cp311-cp311-manylinux2014_x86_64.whl (89.1 MB)\n",
            "\u001b[2K   \u001b[90m━━━━━━━━━━━━━━━━━━━━━━━━━━━━━━━━━━━━━━━━\u001b[0m \u001b[32m89.1/89.1 MB\u001b[0m \u001b[31m21.9 MB/s\u001b[0m eta \u001b[36m0:00:00\u001b[0m\n",
            "\u001b[?25hDownloading ml_dtypes-0.5.1-cp311-cp311-manylinux_2_17_x86_64.manylinux2014_x86_64.whl (4.7 MB)\n",
            "\u001b[2K   \u001b[90m━━━━━━━━━━━━━━━━━━━━━━━━━━━━━━━━━━━━━━━━\u001b[0m \u001b[32m4.7/4.7 MB\u001b[0m \u001b[31m101.4 MB/s\u001b[0m eta \u001b[36m0:00:00\u001b[0m\n",
            "\u001b[?25hDownloading jax-0.6.1-py3-none-any.whl (2.4 MB)\n",
            "\u001b[2K   \u001b[90m━━━━━━━━━━━━━━━━━━━━━━━━━━━━━━━━━━━━━━━━\u001b[0m \u001b[32m2.4/2.4 MB\u001b[0m \u001b[31m89.5 MB/s\u001b[0m eta \u001b[36m0:00:00\u001b[0m\n",
            "\u001b[?25hDownloading nvidia_cuda_nvcc_cu12-12.9.86-py3-none-manylinux2010_x86_64.manylinux_2_12_x86_64.whl (40.5 MB)\n",
            "\u001b[2K   \u001b[90m━━━━━━━━━━━━━━━━━━━━━━━━━━━━━━━━━━━━━━━━\u001b[0m \u001b[32m40.5/40.5 MB\u001b[0m \u001b[31m53.6 MB/s\u001b[0m eta \u001b[36m0:00:00\u001b[0m\n",
            "\u001b[?25hDownloading nvidia_cudnn_cu12-9.10.2.21-py3-none-manylinux_2_27_x86_64.whl (706.8 MB)\n",
            "\u001b[2K   \u001b[90m━━━━━━━━━━━━━━━━━━━━━━━━━━━━━━━━━━━━━━━━\u001b[0m \u001b[32m706.8/706.8 MB\u001b[0m \u001b[31m1.8 MB/s\u001b[0m eta \u001b[36m0:00:00\u001b[0m\n",
            "\u001b[?25hDownloading nvidia_nvshmem_cu12-3.2.5-py3-none-manylinux2014_x86_64.manylinux_2_17_x86_64.whl (90.7 MB)\n",
            "\u001b[2K   \u001b[90m━━━━━━━━━━━━━━━━━━━━━━━━━━━━━━━━━━━━━━━━\u001b[0m \u001b[32m90.7/90.7 MB\u001b[0m \u001b[31m17.4 MB/s\u001b[0m eta \u001b[36m0:00:00\u001b[0m\n",
            "\u001b[?25hInstalling collected packages: jax-cuda12-pjrt, nvidia-nvshmem-cu12, nvidia-cudnn-cu12, nvidia-cuda-nvcc-cu12, ml_dtypes, jax-cuda12-plugin, jaxlib, jax\n",
            "  Attempting uninstall: jax-cuda12-pjrt\n",
            "    Found existing installation: jax-cuda12-pjrt 0.5.1\n",
            "    Uninstalling jax-cuda12-pjrt-0.5.1:\n",
            "      Successfully uninstalled jax-cuda12-pjrt-0.5.1\n",
            "  Attempting uninstall: nvidia-cudnn-cu12\n",
            "    Found existing installation: nvidia-cudnn-cu12 9.3.0.75\n",
            "    Uninstalling nvidia-cudnn-cu12-9.3.0.75:\n",
            "      Successfully uninstalled nvidia-cudnn-cu12-9.3.0.75\n",
            "  Attempting uninstall: nvidia-cuda-nvcc-cu12\n",
            "    Found existing installation: nvidia-cuda-nvcc-cu12 12.5.82\n",
            "    Uninstalling nvidia-cuda-nvcc-cu12-12.5.82:\n",
            "      Successfully uninstalled nvidia-cuda-nvcc-cu12-12.5.82\n",
            "  Attempting uninstall: ml_dtypes\n",
            "    Found existing installation: ml-dtypes 0.4.1\n",
            "    Uninstalling ml-dtypes-0.4.1:\n",
            "      Successfully uninstalled ml-dtypes-0.4.1\n",
            "  Attempting uninstall: jax-cuda12-plugin\n",
            "    Found existing installation: jax-cuda12-plugin 0.5.1\n",
            "    Uninstalling jax-cuda12-plugin-0.5.1:\n",
            "      Successfully uninstalled jax-cuda12-plugin-0.5.1\n",
            "  Attempting uninstall: jaxlib\n",
            "    Found existing installation: jaxlib 0.4.31\n",
            "    Uninstalling jaxlib-0.4.31:\n",
            "      Successfully uninstalled jaxlib-0.4.31\n",
            "  Attempting uninstall: jax\n",
            "    Found existing installation: jax 0.4.31\n",
            "    Uninstalling jax-0.4.31:\n",
            "      Successfully uninstalled jax-0.4.31\n",
            "\u001b[31mERROR: pip's dependency resolver does not currently take into account all the packages that are installed. This behaviour is the source of the following dependency conflicts.\n",
            "jimgw 0.2.0 requires jax<=0.4.31,>=0.4.24, but you have jax 0.6.1 which is incompatible.\n",
            "tensorflow 2.18.0 requires ml-dtypes<0.5.0,>=0.4.0, but you have ml-dtypes 0.5.1 which is incompatible.\n",
            "torch 2.6.0+cu124 requires nvidia-cublas-cu12==12.4.5.8; platform_system == \"Linux\" and platform_machine == \"x86_64\", but you have nvidia-cublas-cu12 12.5.3.2 which is incompatible.\n",
            "torch 2.6.0+cu124 requires nvidia-cuda-cupti-cu12==12.4.127; platform_system == \"Linux\" and platform_machine == \"x86_64\", but you have nvidia-cuda-cupti-cu12 12.5.82 which is incompatible.\n",
            "torch 2.6.0+cu124 requires nvidia-cuda-nvrtc-cu12==12.4.127; platform_system == \"Linux\" and platform_machine == \"x86_64\", but you have nvidia-cuda-nvrtc-cu12 12.5.82 which is incompatible.\n",
            "torch 2.6.0+cu124 requires nvidia-cuda-runtime-cu12==12.4.127; platform_system == \"Linux\" and platform_machine == \"x86_64\", but you have nvidia-cuda-runtime-cu12 12.5.82 which is incompatible.\n",
            "torch 2.6.0+cu124 requires nvidia-cudnn-cu12==9.1.0.70; platform_system == \"Linux\" and platform_machine == \"x86_64\", but you have nvidia-cudnn-cu12 9.10.2.21 which is incompatible.\n",
            "torch 2.6.0+cu124 requires nvidia-cufft-cu12==11.2.1.3; platform_system == \"Linux\" and platform_machine == \"x86_64\", but you have nvidia-cufft-cu12 11.2.3.61 which is incompatible.\n",
            "torch 2.6.0+cu124 requires nvidia-curand-cu12==10.3.5.147; platform_system == \"Linux\" and platform_machine == \"x86_64\", but you have nvidia-curand-cu12 10.3.6.82 which is incompatible.\n",
            "torch 2.6.0+cu124 requires nvidia-cusolver-cu12==11.6.1.9; platform_system == \"Linux\" and platform_machine == \"x86_64\", but you have nvidia-cusolver-cu12 11.6.3.83 which is incompatible.\n",
            "torch 2.6.0+cu124 requires nvidia-cusparse-cu12==12.3.1.170; platform_system == \"Linux\" and platform_machine == \"x86_64\", but you have nvidia-cusparse-cu12 12.5.1.3 which is incompatible.\n",
            "torch 2.6.0+cu124 requires nvidia-nvjitlink-cu12==12.4.127; platform_system == \"Linux\" and platform_machine == \"x86_64\", but you have nvidia-nvjitlink-cu12 12.5.82 which is incompatible.\u001b[0m\u001b[31m\n",
            "\u001b[0mSuccessfully installed jax-0.6.1 jax-cuda12-pjrt-0.6.1 jax-cuda12-plugin-0.6.1 jaxlib-0.6.1 ml_dtypes-0.5.1 nvidia-cuda-nvcc-cu12-12.9.86 nvidia-cudnn-cu12-9.10.2.21 nvidia-nvshmem-cu12-3.2.5\n"
          ]
        }
      ],
      "source": [
        "# For CUDA 12 with cuDNN 8.9\n",
        "!pip install --upgrade \"jax[cuda]\" -f https://storage.googleapis.com/jax-releases/jax_cuda_releases.html"
      ]
    },
    {
      "cell_type": "code",
      "source": [
        "!pip install --upgrade equinox"
      ],
      "metadata": {
        "id": "xO4mrIZmOuLz",
        "colab": {
          "base_uri": "https://localhost:8080/"
        },
        "outputId": "f90e4f7e-5361-4198-c383-a7dc85b5d081"
      },
      "execution_count": null,
      "outputs": [
        {
          "output_type": "stream",
          "name": "stdout",
          "text": [
            "Requirement already satisfied: equinox in /usr/local/lib/python3.11/dist-packages (0.11.10)\n",
            "Collecting equinox\n",
            "  Using cached equinox-0.12.2-py3-none-any.whl.metadata (18 kB)\n",
            "Requirement already satisfied: jax>=0.4.38 in /usr/local/lib/python3.11/dist-packages (from equinox) (0.6.1)\n",
            "Requirement already satisfied: jaxtyping>=0.2.20 in /usr/local/lib/python3.11/dist-packages (from equinox) (0.3.2)\n",
            "Requirement already satisfied: typing-extensions>=4.5.0 in /usr/local/lib/python3.11/dist-packages (from equinox) (4.14.0)\n",
            "Requirement already satisfied: wadler-lindig>=0.1.0 in /usr/local/lib/python3.11/dist-packages (from equinox) (0.1.6)\n",
            "Requirement already satisfied: jaxlib<=0.6.1,>=0.6.1 in /usr/local/lib/python3.11/dist-packages (from jax>=0.4.38->equinox) (0.6.1)\n",
            "Requirement already satisfied: ml_dtypes>=0.5.0 in /usr/local/lib/python3.11/dist-packages (from jax>=0.4.38->equinox) (0.5.1)\n",
            "Requirement already satisfied: numpy>=1.25 in /usr/local/lib/python3.11/dist-packages (from jax>=0.4.38->equinox) (2.0.2)\n",
            "Requirement already satisfied: opt_einsum in /usr/local/lib/python3.11/dist-packages (from jax>=0.4.38->equinox) (3.4.0)\n",
            "Requirement already satisfied: scipy>=1.11.1 in /usr/local/lib/python3.11/dist-packages (from jax>=0.4.38->equinox) (1.15.3)\n",
            "Downloading equinox-0.12.2-py3-none-any.whl (177 kB)\n",
            "\u001b[2K   \u001b[90m━━━━━━━━━━━━━━━━━━━━━━━━━━━━━━━━━━━━━━━━\u001b[0m \u001b[32m177.2/177.2 kB\u001b[0m \u001b[31m4.2 MB/s\u001b[0m eta \u001b[36m0:00:00\u001b[0m\n",
            "\u001b[?25hInstalling collected packages: equinox\n",
            "  Attempting uninstall: equinox\n",
            "    Found existing installation: equinox 0.11.10\n",
            "    Uninstalling equinox-0.11.10:\n",
            "      Successfully uninstalled equinox-0.11.10\n",
            "Successfully installed equinox-0.12.2\n"
          ]
        }
      ]
    },
    {
      "cell_type": "code",
      "execution_count": null,
      "metadata": {
        "id": "gGc6wB30-tTh"
      },
      "outputs": [],
      "source": [
        "import numpy as np\n",
        "import jax.numpy as jnp"
      ]
    },
    {
      "cell_type": "code",
      "execution_count": null,
      "metadata": {
        "id": "bRT2jyPSUU18"
      },
      "outputs": [],
      "source": [
        "import time\n",
        "\n",
        "import jax\n",
        "#jax.config.update(\"jax_debug_nans\", True)\n",
        "import jax.numpy as jnp\n",
        "\n",
        "from jimgw.jim import Jim\n",
        "from jimgw.prior import *\n",
        "#from jimgw.jim import Jim\n",
        "# from jimgw.prior import (\n",
        "#     CombinePrior,\n",
        "#     UniformPrior,\n",
        "#     CosinePrior,\n",
        "#     SinePrior,\n",
        "#     PowerLawPrior,\n",
        "#     UniformSpherePrior,\n",
        "# )\n",
        "from jimgw.single_event.detector import H1, L1, V1\n",
        "from jimgw.single_event.likelihood import TransientLikelihoodFD, HeterodynedTransientLikelihoodFD\n",
        "from jimgw.single_event.waveform import RippleIMRPhenomD,RippleIMRPhenomD_NRTidalv2,RippleTaylorF2, RippleIMRPhenomD_ScalarTensor\n",
        "from jimgw.transforms import BoundToUnbound\n",
        "from jimgw.single_event.transforms import (\n",
        "    SkyFrameToDetectorFrameSkyPositionTransform,\n",
        "    SphereSpinToCartesianSpinTransform,\n",
        "    MassRatioToSymmetricMassRatioTransform,\n",
        "    DistanceToSNRWeightedDistanceTransform,\n",
        "    GeocentricArrivalTimeToDetectorArrivalTimeTransform,\n",
        "    GeocentricArrivalPhaseToDetectorArrivalPhaseTransform,\n",
        ")\n",
        "from jimgw.single_event.utils import Mc_q_to_m1_m2\n",
        "from flowMC.strategy.optimization import optimization_Adam\n",
        "\n",
        "jax.config.update(\"jax_enable_x64\", True)\n",
        "\n",
        "###########################################\n",
        "########## First we grab data #############\n",
        "###########################################\n",
        "\n",
        "total_time_start = time.time()\n",
        "\n",
        "# first, fetch a 4s segment centered on GW150914\n",
        "\n",
        "ifos = [H1, L1, V1]\n",
        "\n",
        "\n",
        "# tukey_alpha = 2 / (duration / 2)\n",
        "# H1.load_data(\n",
        "#     gps, duration, 2, fmin, fmax, psd_pad=duration + 16, tukey_alpha=tukey_alpha\n",
        "# )\n",
        "# L1.load_data(\n",
        "#     gps, duration, 2, fmin, fmax, psd_pad=duration + 16, tukey_alpha=tukey_alpha\n",
        "# )\n",
        "# V1.load_data(\n",
        "#     gps, duration, 2, fmin, fmax, psd_pad=duration + 16, tukey_alpha=tukey_alpha\n",
        "# )\n",
        "\n",
        "H1.frequencies = np.genfromtxt('H1_freq.txt')\n",
        "H1_data_re, H1_data_im = np.genfromtxt('H1_data_re.txt'), np.genfromtxt('H1_data_im.txt')\n",
        "H1.data = H1_data_re + 1j * H1_data_im\n",
        "H1_jnp = jax.numpy.array(H1.frequencies)\n",
        "\n",
        "L1.frequencies = np.genfromtxt('L1_freq.txt')\n",
        "L1_data_re, L1_data_im = np.genfromtxt('L1_data_re.txt'), np.genfromtxt('L1_data_im.txt')\n",
        "L1.data = L1_data_re + 1j * L1_data_im\n",
        "L1_jnp = jax.numpy.array(L1.frequencies)\n",
        "\n",
        "V1.frequencies = np.genfromtxt('V1_freq.txt')\n",
        "V1_data_re, V1_data_im = np.genfromtxt('V1_data_re.txt'), np.genfromtxt('V1_data_im.txt')\n",
        "V1.data = V1_data_re + 1j * V1_data_im\n",
        "V1_jnp = jax.numpy.array(V1.frequencies)\n",
        "# Load the PSD\n",
        "\n",
        "H1.psd = H1.load_psd(H1_jnp, psd_file =\"GW170817-IMRD_data0_1187008882-43_generation_data_dump.pickle_H1_psd.txt\")\n",
        "L1.psd = L1.load_psd(L1_jnp, psd_file = \"GW170817-IMRD_data0_1187008882-43_generation_data_dump.pickle_L1_psd.txt\")\n",
        "V1.psd = V1.load_psd(V1_jnp, psd_file = \"GW170817-IMRD_data0_1187008882-43_generation_data_dump.pickle_V1_psd.txt\")\n",
        "\n",
        "\n",
        "\n"
      ]
    },
    {
      "cell_type": "code",
      "execution_count": null,
      "metadata": {
        "id": "dhToJO_B22lG",
        "colab": {
          "base_uri": "https://localhost:8080/"
        },
        "outputId": "4d0c77a2-2f7d-4045-de78-645ef3550176"
      },
      "outputs": [
        {
          "output_type": "execute_result",
          "data": {
            "text/plain": [
              "(259583, 259583, 259583, 259583, 259583, 259583, 259583)"
            ]
          },
          "metadata": {},
          "execution_count": 6
        }
      ],
      "source": [
        "len(H1.data),len(H1.psd),len(H1.frequencies),len(L1.psd),len(L1.frequencies),len(V1.psd),len(V1.frequencies)"
      ]
    },
    {
      "cell_type": "code",
      "execution_count": null,
      "metadata": {
        "id": "0E246ef_1OQ3"
      },
      "outputs": [],
      "source": [
        "import numpy as np\n",
        "\n",
        "# H1 frequency masking\n",
        "ah = H1.frequencies\n",
        "bh = H1.data\n",
        "ch = H1.psd\n",
        "\n",
        "# Find the indices where any of the arrays contains inf\n",
        "mask = np.isinf(ah) | np.isinf(bh) | np.isinf(ch)\n",
        "\n",
        "# Remove the elements where the mask is True\n",
        "H1.frequencies = ah[~mask][:-1]\n",
        "H1.data = bh[~mask][:-1]\n",
        "H1.psd = ch[~mask][:-1]\n",
        "\n",
        "\n",
        "\n",
        "# L1 frequency masking\n",
        "aL = L1.frequencies\n",
        "bL = L1.data\n",
        "cL = L1.psd\n",
        "\n",
        "# Find the indices where any of the arrays contains inf\n",
        "mask = np.isinf(aL) | np.isinf(bL) | np.isinf(cL)\n",
        "\n",
        "# Remove the elements where the mask is True\n",
        "L1.frequencies = aL[~mask]\n",
        "L1.data = bL[~mask]\n",
        "L1.psd = cL[~mask]\n",
        "\n",
        "\n",
        "# V1 frequency masking\n",
        "aV = V1.frequencies\n",
        "bV = V1.data\n",
        "cV = V1.psd\n",
        "\n",
        "# Find the indices where any of the arrays contains inf\n",
        "mask = np.isinf(aV) | np.isinf(bV) | np.isinf(cV)\n",
        "\n",
        "# Remove the elements where the mask is True\n",
        "V1.frequencies = aV[~mask]\n",
        "V1.data = bV[~mask]\n",
        "V1.psd = cV[~mask]\n",
        "\n",
        "\n",
        "\n",
        "\n",
        "\n",
        "gps = 1187008882.43\n",
        "trigger_time = gps\n",
        "fmin = min(H1.frequencies)\n",
        "fmax = max(H1.frequencies)\n",
        "#fmax = 2048\n",
        "minimum_frequency = fmin\n",
        "maximum_frequency = fmax\n",
        "duration = 128\n",
        "post_trigger_duration = 2\n",
        "epoch = duration - post_trigger_duration\n",
        "f_ref = fmin\n",
        "\n",
        "waveform = RippleIMRPhenomD_ScalarTensor(f_ref=f_ref)\n",
        "#RippleIMRPhenomD_NRTidalv2(f_ref=f_ref)\n"
      ]
    },
    {
      "cell_type": "code",
      "source": [],
      "metadata": {
        "id": "nv9DPSVBv8a0"
      },
      "execution_count": null,
      "outputs": []
    },
    {
      "cell_type": "code",
      "execution_count": null,
      "metadata": {
        "id": "7A6sZbFh3pUe",
        "colab": {
          "base_uri": "https://localhost:8080/"
        },
        "outputId": "b017f71d-b473-42da-cc62-753659066184"
      },
      "outputs": [
        {
          "output_type": "execute_result",
          "data": {
            "text/plain": [
              "(259199, 259199, 259199, 259199, 259199, 259199, 259199)"
            ]
          },
          "metadata": {},
          "execution_count": 8
        }
      ],
      "source": [
        "len(H1.data),len(H1.psd),len(H1.frequencies),len(L1.psd),len(L1.frequencies),len(V1.psd),len(V1.frequencies)"
      ]
    },
    {
      "cell_type": "code",
      "execution_count": null,
      "metadata": {
        "id": "Vy8L4ecP7CCT",
        "colab": {
          "base_uri": "https://localhost:8080/"
        },
        "outputId": "4a785d1d-bf7b-4ced-94b8-d837cf13ccef"
      },
      "outputs": [
        {
          "output_type": "execute_result",
          "data": {
            "text/plain": [
              "(np.float64(23.0),\n",
              " np.float64(23.0),\n",
              " np.float64(23.0),\n",
              " np.float64(2047.984375),\n",
              " np.float64(2047.984375),\n",
              " np.float64(2047.984375))"
            ]
          },
          "metadata": {},
          "execution_count": 9
        }
      ],
      "source": [
        "min(H1.frequencies),min(L1.frequencies),min(V1.frequencies),max(H1.frequencies),max(L1.frequencies),max(V1.frequencies)"
      ]
    },
    {
      "cell_type": "code",
      "execution_count": null,
      "metadata": {
        "id": "jpzMZ3fbT5kw",
        "colab": {
          "base_uri": "https://localhost:8080/"
        },
        "outputId": "fb6281ed-ee8f-4b26-9238-013d894f537c"
      },
      "outputs": [
        {
          "output_type": "execute_result",
          "data": {
            "text/plain": [
              "(np.float64(23.0), np.float64(2047.984375))"
            ]
          },
          "metadata": {},
          "execution_count": 10
        }
      ],
      "source": [
        "fmin,fmax"
      ]
    },
    {
      "cell_type": "code",
      "execution_count": null,
      "metadata": {
        "id": "xu1sZt113IR3",
        "colab": {
          "base_uri": "https://localhost:8080/"
        },
        "outputId": "bd8460f6-1635-4881-8552-b6321394dbdb"
      },
      "outputs": [
        {
          "output_type": "stream",
          "name": "stdout",
          "text": [
            "Array does not contain inf values.\n"
          ]
        }
      ],
      "source": [
        "import numpy as np\n",
        "\n",
        "# Example array\n",
        "\n",
        "\n",
        "# Check if there are any inf values in a\n",
        "contains_inf = np.any(np.isinf(H1.psd))\n",
        "\n",
        "if contains_inf:\n",
        "    print(\"Array contains inf values.\")\n",
        "else:\n",
        "    print(\"Array does not contain inf values.\")\n"
      ]
    },
    {
      "cell_type": "markdown",
      "metadata": {
        "id": "cWQEviYAZWzr"
      },
      "source": []
    },
    {
      "cell_type": "code",
      "execution_count": null,
      "metadata": {
        "id": "OgXAh2BKZSCf"
      },
      "outputs": [],
      "source": []
    },
    {
      "cell_type": "code",
      "execution_count": null,
      "metadata": {
        "id": "QOgz9ZvtopY1"
      },
      "outputs": [],
      "source": [
        "@jaxtyped(typechecker=typechecker)\n",
        "class GaussianPrior(Prior):\n",
        "    \"\"\"\n",
        "    A prior distribution based on a Gaussian (Normal) distribution with arbitrary mu and sigma.\n",
        "\n",
        "    The probability density function (pdf) of a Gaussian is:\n",
        "    p(x) = (1 / (sigma * sqrt(2 * pi))) * exp(-(x - mu)^2 / (2 * sigma^2))\n",
        "\n",
        "    Parameters\n",
        "    ----------\n",
        "    mu : float\n",
        "        The mean of the Gaussian distribution.\n",
        "    sigma : float\n",
        "        The standard deviation of the Gaussian distribution.\n",
        "    parameter_names : list[str]\n",
        "        A list of names for the parameters of the prior.\n",
        "    \"\"\"\n",
        "\n",
        "    mu: float\n",
        "    sigma: float\n",
        "\n",
        "    def __repr__(self):\n",
        "        return f\"GaussianPrior(mu={self.mu}, sigma={self.sigma}, parameter_names={self.parameter_names})\"\n",
        "\n",
        "    def __init__(self, mu: float, sigma: float, parameter_names: list[str]):\n",
        "        super().__init__(parameter_names)\n",
        "        assert self.n_dim == 1, \"GaussianPrior needs to be 1D distributions\"\n",
        "        self.mu = mu\n",
        "        self.sigma = sigma\n",
        "\n",
        "    def sample(\n",
        "        self, rng_key: PRNGKeyArray, n_samples: int\n",
        "    ) -> dict[str, Float[Array, \" n_samples\"]]:\n",
        "        \"\"\"\n",
        "        Sample from the Gaussian distribution.\n",
        "\n",
        "        Parameters\n",
        "        ----------\n",
        "        rng_key : PRNGKeyArray\n",
        "            A random key to use for sampling.\n",
        "        n_samples : int\n",
        "            The number of samples to draw.\n",
        "\n",
        "        Returns\n",
        "        -------\n",
        "        samples : dict\n",
        "            Samples from the distribution. The keys are the names of the parameters.\n",
        "\n",
        "        \"\"\"\n",
        "        samples = jax.random.normal(rng_key, (n_samples,)) * self.sigma + self.mu\n",
        "        return self.add_name(samples[None])\n",
        "\n",
        "    def log_prob(self, z: dict[str, Float]) -> Float:\n",
        "        \"\"\"\n",
        "        Calculate the log-probability of the Gaussian distribution at a given value.\n",
        "\n",
        "        Parameters\n",
        "        ----------\n",
        "        z : dict[str, Float]\n",
        "            A dictionary of parameter values (with parameter names as keys).\n",
        "\n",
        "        Returns\n",
        "        -------\n",
        "        log_prob : float\n",
        "            The log-probability of the value according to the Gaussian distribution.\n",
        "        \"\"\"\n",
        "        variable = z[self.parameter_names[0]]\n",
        "        return -0.5 * ((variable - self.mu) ** 2) / (self.sigma ** 2) - 0.5 * jnp.log(2 * jnp.pi * self.sigma ** 2)\n"
      ]
    },
    {
      "cell_type": "code",
      "execution_count": null,
      "metadata": {
        "colab": {
          "base_uri": "https://localhost:8080/"
        },
        "id": "DuIAR0db-opr",
        "outputId": "a2ccd934-8be4-421f-dfe3-213c7d850b89"
      },
      "outputs": [
        {
          "output_type": "stream",
          "name": "stdout",
          "text": [
            "['M_c', 'q', 's1_z', 's2_z', 'iota', 'd_L', 't_c', 'phase_c', 'psi', 'ra', 'dec']\n",
            "Initializing heterodyned likelihood..\n",
            "Parameters are fixed {'alpha': 0.0, 'beta': 0.0, 'alphaB': 0.0}\n",
            "Reference parameters provided, which are {'M_c': 1.1975896, 'eta': 0.2461001, 's1_z': -0.0296672676, 's2_z': 0.0280404568, 'd_L': 42.86331818, 't_c': -5.9354823e-05, 'phase_c': 4.58680356, 'iota': 2.85, 'psi': 3.14, 'ra': 3.44536826, 'dec': -0.408082}\n",
            "Constructing reference waveforms..\n"
          ]
        }
      ],
      "source": [
        "###########################################\n",
        "########## Set up priors ##################\n",
        "###########################################\n",
        "import time\n",
        "t1 = time.time()\n",
        "prior = []\n",
        "\n",
        "# Mass prior\n",
        "M_c_min, M_c_max = 1.18, 1.21\n",
        "q_min, q_max = 0.125, 1.0\n",
        "Mc_prior = UniformPrior(M_c_min, M_c_max, parameter_names=[\"M_c\"])\n",
        "q_prior = UniformPrior(q_min, q_max, parameter_names=[\"q\"])\n",
        "\n",
        "prior = prior + [Mc_prior, q_prior]\n",
        "\n",
        "# Spin prior\n",
        "s1_prior = UniformPrior(-0.05, 0.05, parameter_names=[\"s1_z\"])\n",
        "s2_prior = UniformPrior(-0.05, 0.05, parameter_names=[\"s2_z\"])\n",
        "iota_prior = GaussianPrior(2.85,0.03,parameter_names=[\"iota\"])\n",
        "prior = prior + [\n",
        "    s1_prior,\n",
        "    s2_prior,\n",
        "    iota_prior,\n",
        "]\n",
        "\n",
        "# Extrinsic prior\n",
        "dL_prior =GaussianPrior(42.0,0.5,parameter_names=[\"d_L\"])\n",
        "#UniformPrior(1.0, 75.0, parameter_names=[\"d_L\"])\n",
        "t_c_prior = UniformPrior(-0.1, 0.1, parameter_names=[\"t_c\"])\n",
        "phase_c_prior = UniformPrior(0.0, 2 * jnp.pi, parameter_names=[\"phase_c\"])\n",
        "#lambda_1_prior =UniformPrior(0.0, 5000.0, parameter_names=[\"lambda_1\"])\n",
        "#lambda_2_prior = UniformPrior(0.0, 5000.0, parameter_names=[\"lambda_2\"])\n",
        "psi_prior = GaussianPrior(3.14,0.09, parameter_names=[\"psi\"])\n",
        "#UniformPrior(0.0, jnp.pi, parameter_names=[\"psi\"])\n",
        "ra_prior =GaussianPrior(3.44,0.01, parameter_names=[\"ra\"])\n",
        "#UniformPrior(0.0, 2 * jnp.pi, parameter_names=[\"ra\"])\n",
        "dec_prior = GaussianPrior(-0.40,0.01,parameter_names=[\"dec\"])\n",
        "\n",
        "alpha_prior = UniformPrior(0.0, 0.01, parameter_names=[\"alpha\"])\n",
        "beta_prior = UniformPrior(-0.01, 0.01, parameter_names=[\"beta\"])\n",
        "alphaB_prior = UniformPrior(0.01, 0.5, parameter_names=[\"alphaB\"])\n",
        "\n",
        "prior = prior + [\n",
        "    dL_prior,\n",
        "    t_c_prior,\n",
        "    phase_c_prior,\n",
        "   #lambda_1_prior,\n",
        "   #lambda_2_prior,\n",
        "    psi_prior,\n",
        "    ra_prior,\n",
        "    dec_prior,\n",
        "    # alpha_prior,\n",
        "    # beta_prior,\n",
        "    # alphaB_prior\n",
        "]\n",
        "\n",
        "prior = CombinePrior(prior)\n",
        "\n",
        "# The following only works if every prior has xmin and xmax property, which is OK for Uniform and Powerlaw\n",
        "# bounds = jnp.array([[p.xmin, p.xmax] for p in prior.priors])\n",
        "\n",
        "# Defining Transforms\n",
        "\n",
        "sample_transforms = [\n",
        "    # DistanceToSNRWeightedDistanceTransform(gps_time=gps, ifos=ifos, dL_min=dL_prior.xmin, dL_max=dL_prior.xmax),\n",
        "     DistanceToSNRWeightedDistanceTransform(gps_time=gps, ifos=ifos, dL_min=30.0, dL_max=60.0),\n",
        "    GeocentricArrivalPhaseToDetectorArrivalPhaseTransform(gps_time=gps, ifo=ifos[0]),\n",
        "    GeocentricArrivalTimeToDetectorArrivalTimeTransform(tc_min=t_c_prior.xmin, tc_max=t_c_prior.xmax, gps_time=gps, ifo=ifos[0]),\n",
        "    SkyFrameToDetectorFrameSkyPositionTransform(gps_time=gps, ifos=ifos),\n",
        "    BoundToUnbound(name_mapping = ([\"M_c\"], [\"M_c_unbounded\"]), original_lower_bound=M_c_min, original_upper_bound=M_c_max),\n",
        "    BoundToUnbound(name_mapping = ([\"q\"], [\"q_unbounded\"]), original_lower_bound=q_min, original_upper_bound=q_max),\n",
        "    #BoundToUnbound(name_mapping = ([\"lambda_1\"], [\"lambda_1_unbounded\"]), original_lower_bound=0.0, original_upper_bound=5000.0),\n",
        "    #BoundToUnbound(name_mapping = ([\"lambda_2\"], [\"lambda_2_unbounded\"]), original_lower_bound=0.0, original_upper_bound=5000.0),\n",
        "    BoundToUnbound(name_mapping = ([\"s1_z\"], [\"s1_z_unbounded\"]) , original_lower_bound=-0.05, original_upper_bound=0.05),\n",
        "    BoundToUnbound(name_mapping = ([\"s2_z\"], [\"s2_z_unbounded\"]) , original_lower_bound=-0.05, original_upper_bound=0.05),\n",
        "    #BoundToUnbound(name_mapping = ([\"iota\"], [\"iota_unbounded\"]) , original_lower_bound=0.0, original_upper_bound=jnp.pi),\n",
        "    BoundToUnbound(name_mapping = ([\"phase_det\"], [\"phase_det_unbounded\"]), original_lower_bound=0.0, original_upper_bound=2 * jnp.pi),\n",
        "   # BoundToUnbound(name_mapping = ([\"psi\"], [\"psi_unbounded\"]), original_lower_bound=0.0, original_upper_bound=jnp.pi),\n",
        "   # BoundToUnbound(name_mapping = ([\"zenith\"], [\"zenith_unbounded\"]), original_lower_bound=0.0, original_upper_bound=jnp.pi),\n",
        "   #BoundToUnbound(name_mapping = ([\"azimuth\"], [\"azimuth_unbounded\"]), original_lower_bound=0.0, original_upper_bound=2 * jnp.pi),\n",
        "    # BoundToUnbound(name_mapping = ([\"alpha\"], [\"alpha_unbounded\"]) , original_lower_bound=0.0, original_upper_bound=0.1),\n",
        "    # BoundToUnbound(name_mapping = ([\"alphaB\"], [\"alphaB_unbounded\"]) , original_lower_bound=0.01, original_upper_bound=0.50),\n",
        "    # BoundToUnbound(name_mapping = ([\"beta\"], [\"beta_unbounded\"]) , original_lower_bound=-0.01, original_upper_bound=0.01)\n",
        "    ]\n",
        "\n",
        "\n",
        "likelihood_transforms = [\n",
        "    MassRatioToSymmetricMassRatioTransform,\n",
        "]\n",
        "ref_params = {\n",
        "   'M_c': 1.1975896,\n",
        "   'eta': 0.2461001,\n",
        "   's1_z': -2.96672676e-02,\n",
        "   's2_z': 2.80404568e-02,\n",
        "   #'lambda_1': 791.04366468,\n",
        "   #'lambda_2': 891.04366468,\n",
        "   'd_L': 42.86331818,\n",
        "   't_c': -5.93548230e-05,\n",
        "   'phase_c': 4.58680356e+00,\n",
        "   'iota': 2.85,\n",
        "   'psi': 3.14,\n",
        "   'ra': 3.44536826,\n",
        "   'dec': -0.408082,\n",
        "  #  'alpha':0.0,\n",
        "  #  'beta':0.0,\n",
        "  #  'alphaB':0.0,\n",
        "\n",
        "}\n",
        "param_names = prior.parameter_names\n",
        "print(param_names)\n",
        "\n",
        "likelihood = HeterodynedTransientLikelihoodFD(ifos,ref_params =ref_params, waveform=waveform,fixing_parameters={'alpha':0.0,'beta':0.0,'alphaB':0.0}, n_bins = 1000, trigger_time=trigger_time, duration=duration, post_trigger_duration=post_trigger_duration, prior = prior , likelihood_transforms = likelihood_transforms, popsize = 50, n_steps = 1000)\n"
      ]
    },
    {
      "cell_type": "code",
      "source": [
        "\n",
        "eps = 1e-3\n",
        "n_dim = 11 #13\n",
        "mass_matrix = jnp.eye(n_dim)\n",
        "#mass_matrix = mass_matrix.at[0,0].set(1e-5)\n",
        "#mass_matrix = mass_matrix.at[1,1].set(1e-4)\n",
        "#mass_matrix = mass_matrix.at[2,2].set(1e-3)\n",
        "#mass_matrix = mass_matrix.at[3,3].set(1e-3)\n",
        "mass_matrix = mass_matrix.at[4,4].set(1e-1)\n",
        "mass_matrix = mass_matrix.at[5,5].set(1e-1)\n",
        "mass_matrix = mass_matrix.at[8,8].set(1e-1)\n",
        "mass_matrix = mass_matrix.at[9,9].set(1e-1)#mass_matrix = mass_matrix.at[11,11].set(1e-2)\n",
        "mass_matrix = mass_matrix.at[10,10].set(1e-1)#mass_matrix = mass_matrix.at[12,12].set(1e-2)\n",
        "local_sampler_arg = {\"step_size\": mass_matrix * eps}\n",
        "\n",
        "\n",
        "Adam_optimizer = optimization_Adam(n_steps=3000, learning_rate=0.01, noise_level=1)\n",
        "\n",
        "import optax\n",
        "\n",
        "n_loop_training = 50\n",
        "n_epochs = 20\n",
        "total_epochs = n_epochs * n_loop_training\n",
        "start = int(total_epochs / 10)\n",
        "start_lr = 1e-3\n",
        "end_lr = 1e-5\n",
        "power = 4.0\n",
        "schedule_fn = optax.polynomial_schedule(\n",
        "    start_lr, end_lr, power, total_epochs-start, transition_begin=start)\n",
        "\n",
        "scheduler_str = f\"polynomial_schedule({start_lr}, {end_lr}, {power}, {total_epochs-start}, {start})\"\n",
        "\n",
        "# Choose between fixed learning rate - or - the above scheduler here\n",
        "\n",
        "# learning_rate = 1e-3\n",
        "learning_rate = schedule_fn\n",
        "\n",
        "jim = Jim(\n",
        "    likelihood,\n",
        "    prior,\n",
        "    sample_transforms=sample_transforms,\n",
        "    likelihood_transforms=likelihood_transforms,\n",
        "    n_loop_training=n_loop_training,\n",
        "    n_loop_production=20,\n",
        "    n_local_steps=300,\n",
        "    n_global_steps=500,\n",
        "    n_chains=5000,\n",
        "    n_epochs =n_epochs,\n",
        "    learning_rate=learning_rate,\n",
        "    n_max_examples=30000,\n",
        "    n_flow_sample=50000,\n",
        "    momentum=0.9,\n",
        "    batch_size=50000,\n",
        "    use_global=True,\n",
        "    keep_quantile=0.0,\n",
        "    train_thinning=50,\n",
        "    output_thinning=50,\n",
        "    local_sampler_arg=local_sampler_arg,\n",
        "    stopping_criterion_global_acc = 0.2\n",
        "    #strategies=[Adam_optimizer,\"default\"],\n",
        ")\n",
        "\n",
        "\n",
        "jim.sample(jax.random.PRNGKey(42))\n",
        "jim.print_summary()\n",
        "t2 = time.time()\n",
        "print((t2-t1)/3600)"
      ],
      "metadata": {
        "id": "x88gKgwLgjnQ",
        "colab": {
          "base_uri": "https://localhost:8080/"
        },
        "outputId": "43875635-17b8-47a6-fd4b-c86eb7628fc0"
      },
      "execution_count": null,
      "outputs": [
        {
          "metadata": {
            "tags": null
          },
          "name": "stdout",
          "output_type": "stream",
          "text": [
            "Using sample transforms\n",
            "['n_dim', 'n_chains', 'n_local_steps', 'n_global_steps', 'n_loop', 'output_thinning', 'verbose']\n"
          ]
        },
        {
          "metadata": {
            "tags": null
          },
          "name": "stderr",
          "output_type": "stream",
          "text": [
            "\rGlobal Tuning:   0%|          | 0/50 [00:00<?, ?it/s]"
          ]
        },
        {
          "metadata": {
            "tags": null
          },
          "name": "stdout",
          "output_type": "stream",
          "text": [
            "Compiling MALA body\n"
          ]
        },
        {
          "output_type": "stream",
          "name": "stderr",
          "text": [
            "Global Tuning: 100%|██████████| 50/50 [24:30<00:00, 29.41s/it]\n",
            "Global Sampling: 100%|██████████| 20/20 [07:58<00:00, 23.91s/it]\n"
          ]
        },
        {
          "output_type": "stream",
          "name": "stdout",
          "text": [
            "Training summary\n",
            "==========\n",
            "M_c: 1.209 +/- 0.000\n",
            "d_L: 52.241 +/- 6.956\n",
            "dec: -0.391 +/- 0.070\n",
            "iota: 1.589 +/- 0.188\n",
            "phase_c: 2.950 +/- 2.111\n",
            "psi: 1.589 +/- 1.217\n",
            "q: 0.495 +/- 0.218\n",
            "ra: 3.426 +/- 0.136\n",
            "s1_z: 0.002 +/- 0.033\n",
            "s2_z: -0.003 +/- 0.027\n",
            "t_c: -0.060 +/- 0.045\n",
            "Log probability: -1575.565 +/- 1798.305\n",
            "Local acceptance: 0.998 +/- 0.045\n",
            "Global acceptance: 0.003 +/- 0.051\n",
            "Max loss: 21.794, Min loss: 6.016\n",
            "Production summary\n",
            "==========\n",
            "M_c: 1.208 +/- 0.000\n",
            "d_L: 43.145 +/- 1.301\n",
            "dec: -0.383 +/- 0.014\n",
            "iota: 1.932 +/- 0.040\n",
            "phase_c: 1.472 +/- 1.221\n",
            "psi: 3.057 +/- 0.086\n",
            "q: 0.386 +/- 0.122\n",
            "ra: 3.421 +/- 0.015\n",
            "s1_z: 0.008 +/- 0.028\n",
            "s2_z: -0.004 +/- 0.026\n",
            "t_c: -0.085 +/- 0.007\n",
            "Log probability: -490.489 +/- 28.666\n",
            "Local acceptance: 0.999 +/- 0.031\n",
            "Global acceptance: 0.000 +/- 0.010\n",
            "0.6221937812036938\n"
          ]
        }
      ]
    },
    {
      "cell_type": "markdown",
      "source": [],
      "metadata": {
        "id": "7tDs4A3pAnta"
      }
    },
    {
      "cell_type": "code",
      "source": [
        "# ref_params = {\n",
        "#    'M_c': 1.1975896,\n",
        "#    'eta': 0.2461001,\n",
        "#    's1_z': -2.96672676e-02,\n",
        "#    's2_z': 2.80404568e-02,\n",
        "#    #'lambda_1': 791.04366468,\n",
        "#    #'lambda_2': 891.04366468,\n",
        "#    'd_L': 42.86331818,\n",
        "#    't_c': -5.93548230e-05,\n",
        "#    'phase_c': 4.58680356e+00,\n",
        "#    'iota': 2.85,\n",
        "#    'psi': 3.14,\n",
        "#    'ra': 3.44536826,\n",
        "#    'dec': -0.408082,\n",
        "#    'alpha':0.0,\n",
        "#    'beta':1e-10,\n",
        "#    'alphaB':0.0\n",
        "# }\n",
        "# likelihood_value = likelihood1.evaluate_original(ref_params, data={})\n",
        "# print(\"Likelihood at reference parameters:\", likelihood_value)\n"
      ],
      "metadata": {
        "id": "YqrsNBHlz7fJ"
      },
      "execution_count": null,
      "outputs": []
    },
    {
      "cell_type": "code",
      "source": [
        "# prior_range = np.array([[1.18,1.21],[0.125,1],[-0.05,0.05],[-0.05,0.05],[2.0,3.0],[1.0,75.0],[-0.01,0.01],[0,2*np.pi],[0.0, np.pi],[3.30,3.50],[-0.450,-0.35],[-0.01,0.01]])\n",
        "\n",
        "# from scipy.optimize import minimize\n",
        "# def neg_log_likelihood1(x):\n",
        "#     param_dict = dict(zip(param_names, x))\n",
        "\n",
        "#    # Convert 'q' to 'eta'\n",
        "#     if 'q' in param_dict:\n",
        "#         q = param_dict.pop('q')\n",
        "#         eta = q / (1 + q)**2\n",
        "#         param_dict['eta'] = eta\n",
        "\n",
        "#     val = likelihood1.evaluate_original(param_dict, data={})\n",
        "#     #print(f\"x = {x}, neg_log_likelihood = {val}\")\n",
        "#     return val\n",
        "# f1 = neg_log_likelihood1\n",
        "# y1 = lambda x:-f1(x)\n",
        "\n",
        "# # margin = 1e-4\n",
        "# # x0_safe = np.clip(x0, prior_range[:, 0] + margin, prior_range[:, 1] - margin)\n",
        "# x0 = 0.5 * (prior_range[:, 0] + prior_range[:, 1])  # midpoint guess\n",
        "# # Run the optimizer (method can be 'L-BFGS-B', 'Powell', etc.)\n",
        "# result = minimize(\n",
        "#     fun=y1,\n",
        "#     x0=x0,\n",
        "#     bounds=prior_range,\n",
        "#     method='L-BFGS-B',  # Good general-purpose method with bounds\n",
        "#     options={'disp': True}\n",
        "# )\n",
        "\n",
        "# # Extract best-fit parameters\n",
        "# ref_params = dict(zip(param_names, result.x))\n",
        "# print(\"Best-fit parameters:\")\n",
        "# for k, v in ref_params.items():\n",
        "#     print(f\"{k}: {v:.5f}\")\n",
        "# # import sys\n",
        "# # sys.exit()\n",
        "# print(f\"Initial objective value: {y1(x0)}\")\n"
      ],
      "metadata": {
        "id": "g7-CxTa5VUCk"
      },
      "execution_count": null,
      "outputs": []
    },
    {
      "cell_type": "code",
      "source": [
        "# i = 79  # index of the sample to extract\n",
        "\n",
        "# ef_params = {\n",
        "#     'M_c': samples['M_c'][i],\n",
        "#     'd_L': samples['d_L'][i],\n",
        "#     'dec': samples['dec'][i],\n",
        "#     'iota': samples['iota'][i],\n",
        "#     'phase_c': samples['phase_c'][i],\n",
        "#     'psi': samples['psi'][i],\n",
        "#     'ra': samples['ra'][i],\n",
        "#     's1_z': samples['s1_z'][i],\n",
        "#     's2_z': samples['s2_z'][i],\n",
        "#     't_c': samples['t_c'][i],\n",
        "\n",
        "#     # Derived or custom values\n",
        "#     'eta': samples['q'][i] / (1 + samples['q'][i])**2,  # optional: compute symmetric mass ratio\n",
        "#     'alpha': 0.0,\n",
        "#     'beta': 0.0,\n",
        "#     'alphaB': 0.0\n",
        "# }\n"
      ],
      "metadata": {
        "id": "aXLahZIjFT1k"
      },
      "execution_count": null,
      "outputs": []
    },
    {
      "cell_type": "code",
      "source": [
        "#ef_params"
      ],
      "metadata": {
        "id": "hOxoZfZ4FV4v"
      },
      "execution_count": null,
      "outputs": []
    },
    {
      "cell_type": "code",
      "source": [
        "# ref_params = {\n",
        "#    'M_c': 1.1975896,\n",
        "#    'eta': 0.2461001,\n",
        "#    's1_z': -2.96672676e-02,\n",
        "#    's2_z': 2.80404568e-02,\n",
        "#    #'lambda_1': 791.04366468,\n",
        "#    #'lambda_2': 891.04366468,\n",
        "#    'd_L': 42.86331818,\n",
        "#    't_c': -5.93548230e-05,\n",
        "#    'phase_c': 4.58680356e+00,\n",
        "#    'iota': 2.85,\n",
        "#    'psi': 3.14,\n",
        "#    'ra': 3.44536826,\n",
        "#    'dec': -0.408082,\n",
        "#    'alpha':0.0,\n",
        "#    'beta':0.0,\n",
        "#    'alphaB':0.0\n",
        "# }\n",
        "# likelihood_value = likelihood.evaluate_original(ref_params , data={})\n",
        "# print(\"Likelihood at reference parameters:\", likelihood_value)\n"
      ],
      "metadata": {
        "id": "v_h7wcnYanpY"
      },
      "execution_count": null,
      "outputs": []
    },
    {
      "cell_type": "code",
      "source": [
        "# prior_range = np.array([[1.18,1.21],[0.125,1],[-0.05,0.05],[-0.05,0.05],[2.0,3.0],[1.0,75.0],[-0.01,0.01],[0,2*np.pi],[0.0, np.pi],[3.30,3.50],[-0.450,-0.35],[-0.01,0.01]])\n",
        "\n",
        "\n",
        "# from scipy.optimize import differential_evolution\n",
        "# # Minimize the *negative* log likelihood\n",
        "# def neg_log_likelihood(x):\n",
        "#     param_dict = dict(zip(param_names, x))\n",
        "\n",
        "#    # Convert 'q' to 'eta'\n",
        "#     if 'q' in param_dict:\n",
        "#         q = param_dict.pop('q')\n",
        "#         eta = q / (1 + q)**2\n",
        "#         param_dict['eta'] = eta\n",
        "#     return likelihood1.evaluate_original(param_dict, data={})\n",
        "\n",
        "# f = neg_log_likelihood\n",
        "# y = lambda x:-f(x)\n",
        "\n",
        "# # Run the optimizer\n",
        "# result = differential_evolution(y, prior_range)\n",
        "# ref_params = dict(zip(prior.parameter_names, result.x))\n",
        "\n",
        "# print(\"Reference parameters from DE:\", ref_params)\n",
        "# import sys\n",
        "# sys.exit()\n"
      ],
      "metadata": {
        "id": "h4eDqZ-_Vua3"
      },
      "execution_count": null,
      "outputs": []
    },
    {
      "cell_type": "code",
      "source": [
        "samples=jim.get_samples()\n"
      ],
      "metadata": {
        "id": "1lj-9ztEA5PV"
      },
      "execution_count": null,
      "outputs": []
    },
    {
      "cell_type": "code",
      "source": [
        "import pandas as pd\n",
        "\n",
        "df = pd.DataFrame(samples)\n",
        "\n",
        "# Save the DataFrame to a CSV file\n",
        "df.to_csv('GW170817_MGR_11_uniform.csv', index=False)"
      ],
      "metadata": {
        "id": "8MyLHoGQt6jP"
      },
      "execution_count": null,
      "outputs": []
    },
    {
      "cell_type": "code",
      "execution_count": null,
      "metadata": {
        "id": "kTaGqGXNYSWY"
      },
      "outputs": [],
      "source": [
        "import numpy as np\n",
        "#import corner\n",
        "samples = jim.get_samples()\n",
        "DL = np.array(samples[\"d_L\"])\n",
        "np.median(DL),np.std(DL)"
      ]
    },
    {
      "cell_type": "code",
      "execution_count": null,
      "metadata": {
        "id": "y1iVAHs5VgP5"
      },
      "outputs": [],
      "source": []
    },
    {
      "cell_type": "code",
      "execution_count": null,
      "metadata": {
        "id": "8cl_PIdHLDwj"
      },
      "outputs": [],
      "source": [
        "import seaborn as sns\n",
        "sns.distplot(DL)"
      ]
    },
    {
      "cell_type": "code",
      "execution_count": null,
      "metadata": {
        "id": "dDuQPuueU0t1"
      },
      "outputs": [],
      "source": [
        "import corner\n",
        "import numpy as np\n",
        "import matplotlib.pyplot as plt\n",
        "data = np.vstack([value for value in samples.values()]).T\n",
        "\n",
        "# Create corner plot\n",
        "fig = corner.corner(data, labels=list(samples.keys()),title_kwargs={'fontsize': 30},  # Increase title font size\n",
        "    label_kwargs={'fontsize': 20}, show_titles=True)\n",
        "plt.savefig(\"GW170817_GR_11_PARAM_manual_data_lambda.pdf\")\n",
        "# Show the plot\n",
        "plt.show()"
      ]
    },
    {
      "cell_type": "code",
      "execution_count": null,
      "metadata": {
        "id": "G_l5inF7VChB"
      },
      "outputs": [],
      "source": [
        "jim.print_summary()"
      ]
    },
    {
      "cell_type": "code",
      "execution_count": null,
      "metadata": {
        "id": "CoSvxm5Np6Y4"
      },
      "outputs": [],
      "source": [
        "import numpy as np\n",
        "import arviz as az\n",
        "\n",
        "\n",
        "\n",
        "# Step 1: Reshape the samples to simulate multiple chains (assuming 2 chains)\n",
        "# We split the long array into 2 chains. Adjust the shape as needed.\n",
        "num_chains = 2\n",
        "num_iterations = len(samples['M_c']) // num_chains  # Total samples / number of chains\n",
        "\n",
        "samples_reshaped = {param: np.reshape(sample, (num_chains, num_iterations)) for param, sample in samples.items()}\n",
        "\n",
        "# Step 2: Convert to Arviz InferenceData format\n",
        "inference_data = az.from_dict(posterior=samples_reshaped)\n",
        "\n",
        "# Step 3: Calculate Gelman-Rubin (Rhat)\n",
        "rhat_values = az.rhat(inference_data)\n",
        "print(\"Gelman-Rubin (Rhat) Values:\\n\", rhat_values)\n",
        "\n",
        "# Step 4: Calculate Effective Sample Size (ESS)\n",
        "ess_values = az.ess(inference_data)\n",
        "print(\"\\nEffective Sample Size (ESS):\\n\", ess_values)\n",
        "\n",
        "# Optional: Visualize trace and autocorrelation plots\n",
        "# az.plot_trace(inference_data)\n",
        "# az.plot_autocorr(inference_data)\n"
      ]
    },
    {
      "cell_type": "code",
      "execution_count": null,
      "metadata": {
        "id": "XOmMx4st7X9x"
      },
      "outputs": [],
      "source": [
        "samples"
      ]
    },
    {
      "cell_type": "code",
      "execution_count": null,
      "metadata": {
        "id": "iR9VvGOM88FG"
      },
      "outputs": [],
      "source": [
        "i = 0  # index of the sample to extract\n",
        "\n",
        "ef_params = {\n",
        "    'M_c': samples['M_c'][i],\n",
        "    'd_L': samples['d_L'][i],\n",
        "    'dec': samples['dec'][i],\n",
        "    'iota': samples['iota'][i],\n",
        "    'phase_c': samples['phase_c'][i],\n",
        "    'psi': samples['psi'][i],\n",
        "    'ra': samples['ra'][i],\n",
        "    's1_z': samples['s1_z'][i],\n",
        "    's2_z': samples['s2_z'][i],\n",
        "    't_c': samples['t_c'][i],\n",
        "\n",
        "    # Derived or custom values\n",
        "    'eta': samples['q'][i] / (1 + samples['q'][i])**2,  # optional: compute symmetric mass ratio\n",
        "    'alpha': 0.0,\n",
        "    'beta': 0.0,\n",
        "    'alphaB': 0.0\n",
        "}\n"
      ]
    },
    {
      "cell_type": "code",
      "source": [
        "ef_params"
      ],
      "metadata": {
        "id": "mFjBCE1CEeUv"
      },
      "execution_count": null,
      "outputs": []
    },
    {
      "cell_type": "code",
      "source": [],
      "metadata": {
        "id": "WEmz8weiFFCl"
      },
      "execution_count": null,
      "outputs": []
    }
  ],
  "metadata": {
    "accelerator": "GPU",
    "colab": {
      "gpuType": "A100",
      "provenance": []
    },
    "kernelspec": {
      "display_name": "Python 3",
      "name": "python3"
    },
    "language_info": {
      "name": "python"
    }
  },
  "nbformat": 4,
  "nbformat_minor": 0
}