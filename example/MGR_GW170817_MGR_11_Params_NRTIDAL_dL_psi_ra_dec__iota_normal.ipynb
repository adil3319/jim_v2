{
  "cells": [
    {
      "cell_type": "code",
      "execution_count": 1,
      "metadata": {
        "colab": {
          "base_uri": "https://localhost:8080/"
        },
        "id": "XEAUz7Zj-CMg",
        "outputId": "4a9b8a86-68c6-4aa5-8fc0-4d82b84defd7"
      },
      "outputs": [
        {
          "output_type": "stream",
          "name": "stdout",
          "text": [
            "Collecting git+https://github.com/adil3319/jim\n",
            "  Cloning https://github.com/adil3319/jim to /tmp/pip-req-build-ky0tirph\n",
            "  Running command git clone --filter=blob:none --quiet https://github.com/adil3319/jim /tmp/pip-req-build-ky0tirph\n",
            "  Resolved https://github.com/adil3319/jim to commit acdc8afd82c8ee524ea221aca2ca2ce5980fb802\n",
            "  Installing build dependencies ... \u001b[?25l\u001b[?25hdone\n",
            "  Getting requirements to build wheel ... \u001b[?25l\u001b[?25hdone\n",
            "  Preparing metadata (pyproject.toml) ... \u001b[?25l\u001b[?25hdone\n",
            "Requirement already satisfied: astropy>=6.1.4 in /usr/local/lib/python3.11/dist-packages (from jimgw==0.2.0) (7.0.1)\n",
            "Collecting beartype>=0.19.0 (from jimgw==0.2.0)\n",
            "  Downloading beartype-0.20.2-py3-none-any.whl.metadata (33 kB)\n",
            "Collecting corner>=2.2.2 (from jimgw==0.2.0)\n",
            "  Downloading corner-2.2.3-py3-none-any.whl.metadata (2.2 kB)\n",
            "Collecting flowmc>=0.3.4 (from jimgw==0.2.0)\n",
            "  Downloading flowmc-0.4.4-py3-none-any.whl.metadata (13 kB)\n",
            "Collecting gwpy>=3.0.10 (from jimgw==0.2.0)\n",
            "  Downloading gwpy-3.0.12-py3-none-any.whl.metadata (4.9 kB)\n",
            "Collecting jax<=0.4.31,>=0.4.24 (from jimgw==0.2.0)\n",
            "  Downloading jax-0.4.31-py3-none-any.whl.metadata (22 kB)\n",
            "Collecting jaxtyping>=0.2.34 (from jimgw==0.2.0)\n",
            "  Downloading jaxtyping-0.3.2-py3-none-any.whl.metadata (7.0 kB)\n",
            "Requirement already satisfied: pytest>=8.3.3 in /usr/local/lib/python3.11/dist-packages (from jimgw==0.2.0) (8.3.5)\n",
            "Collecting ripplegw>=0.0.9 (from jimgw==0.2.0)\n",
            "  Downloading ripplegw-0.0.9-py3-none-any.whl.metadata (3.4 kB)\n",
            "Collecting typed-argument-parser>=1.10.1 (from jimgw==0.2.0)\n",
            "  Downloading typed_argument_parser-1.10.1-py3-none-any.whl.metadata (32 kB)\n",
            "Requirement already satisfied: numpy>=1.23.2 in /usr/local/lib/python3.11/dist-packages (from astropy>=6.1.4->jimgw==0.2.0) (2.0.2)\n",
            "Requirement already satisfied: pyerfa>=2.0.1.1 in /usr/local/lib/python3.11/dist-packages (from astropy>=6.1.4->jimgw==0.2.0) (2.0.1.5)\n",
            "Requirement already satisfied: astropy-iers-data>=0.2025.1.31.12.41.4 in /usr/local/lib/python3.11/dist-packages (from astropy>=6.1.4->jimgw==0.2.0) (0.2025.4.28.0.37.27)\n",
            "Requirement already satisfied: PyYAML>=6.0.0 in /usr/local/lib/python3.11/dist-packages (from astropy>=6.1.4->jimgw==0.2.0) (6.0.2)\n",
            "Requirement already satisfied: packaging>=22.0.0 in /usr/local/lib/python3.11/dist-packages (from astropy>=6.1.4->jimgw==0.2.0) (24.2)\n",
            "Requirement already satisfied: matplotlib>=2.1 in /usr/local/lib/python3.11/dist-packages (from corner>=2.2.2->jimgw==0.2.0) (3.10.0)\n",
            "Requirement already satisfied: chex>=0.1.87 in /usr/local/lib/python3.11/dist-packages (from flowmc>=0.3.4->jimgw==0.2.0) (0.1.89)\n",
            "Collecting equinox>=0.11.9 (from flowmc>=0.3.4->jimgw==0.2.0)\n",
            "  Downloading equinox-0.12.1-py3-none-any.whl.metadata (18 kB)\n",
            "INFO: pip is looking at multiple versions of flowmc to determine which version is compatible with other requirements. This could take a while.\n",
            "Collecting flowmc>=0.3.4 (from jimgw==0.2.0)\n",
            "  Downloading flowmc-0.4.2-py3-none-any.whl.metadata (12 kB)\n",
            "Collecting coveralls>=4.0.1 (from flowmc>=0.3.4->jimgw==0.2.0)\n",
            "  Downloading coveralls-4.0.1-py3-none-any.whl.metadata (5.3 kB)\n",
            "Collecting flowmc>=0.3.4 (from jimgw==0.2.0)\n",
            "  Downloading flowmc-0.4.1-py3-none-any.whl.metadata (7.0 kB)\n",
            "  Downloading flowmc-0.4.0-py3-none-any.whl.metadata (6.7 kB)\n",
            "  Downloading flowMC-0.3.4-py3-none-any.whl.metadata (4.5 kB)\n",
            "Requirement already satisfied: jaxlib>=0.4.12 in /usr/local/lib/python3.11/dist-packages (from flowmc>=0.3.4->jimgw==0.2.0) (0.5.1)\n",
            "Requirement already satisfied: optax>=0.1.5 in /usr/local/lib/python3.11/dist-packages (from flowmc>=0.3.4->jimgw==0.2.0) (0.2.4)\n",
            "Collecting evosax>=0.1.4 (from flowmc>=0.3.4->jimgw==0.2.0)\n",
            "  Downloading evosax-0.2.0-py3-none-any.whl.metadata (25 kB)\n",
            "Requirement already satisfied: tqdm in /usr/local/lib/python3.11/dist-packages (from flowmc>=0.3.4->jimgw==0.2.0) (4.67.1)\n",
            "Collecting dateparser>=1.1.4 (from gwpy>=3.0.10->jimgw==0.2.0)\n",
            "  Downloading dateparser-1.2.1-py3-none-any.whl.metadata (29 kB)\n",
            "Collecting dqsegdb2 (from gwpy>=3.0.10->jimgw==0.2.0)\n",
            "  Downloading dqsegdb2-1.3.0-py3-none-any.whl.metadata (3.6 kB)\n",
            "Collecting gwdatafind>=1.1.0 (from gwpy>=3.0.10->jimgw==0.2.0)\n",
            "  Downloading gwdatafind-2.0.0-py3-none-any.whl.metadata (3.6 kB)\n",
            "Collecting gwosc>=0.5.3 (from gwpy>=3.0.10->jimgw==0.2.0)\n",
            "  Downloading gwosc-0.8.0-py3-none-any.whl.metadata (6.2 kB)\n",
            "Requirement already satisfied: h5py>=3.0.0 in /usr/local/lib/python3.11/dist-packages (from gwpy>=3.0.10->jimgw==0.2.0) (3.13.0)\n",
            "Collecting igwn-segments>=2.0.0 (from gwpy>=3.0.10->jimgw==0.2.0)\n",
            "  Downloading igwn_segments-2.0.0-cp311-cp311-manylinux_2_5_x86_64.manylinux1_x86_64.manylinux_2_28_x86_64.whl.metadata (1.9 kB)\n",
            "Collecting ligotimegps>=1.2.1 (from gwpy>=3.0.10->jimgw==0.2.0)\n",
            "  Downloading ligotimegps-2.0.1-py2.py3-none-any.whl.metadata (2.6 kB)\n",
            "Requirement already satisfied: python-dateutil in /usr/local/lib/python3.11/dist-packages (from gwpy>=3.0.10->jimgw==0.2.0) (2.9.0.post0)\n",
            "Requirement already satisfied: requests>=2.20.0 in /usr/local/lib/python3.11/dist-packages (from gwpy>=3.0.10->jimgw==0.2.0) (2.32.3)\n",
            "Requirement already satisfied: scipy>=1.6.0 in /usr/local/lib/python3.11/dist-packages (from gwpy>=3.0.10->jimgw==0.2.0) (1.15.2)\n",
            "Collecting jaxlib>=0.4.12 (from flowmc>=0.3.4->jimgw==0.2.0)\n",
            "  Downloading jaxlib-0.4.31-cp311-cp311-manylinux2014_x86_64.whl.metadata (983 bytes)\n",
            "Requirement already satisfied: ml-dtypes>=0.2.0 in /usr/local/lib/python3.11/dist-packages (from jax<=0.4.31,>=0.4.24->jimgw==0.2.0) (0.4.1)\n",
            "Requirement already satisfied: opt-einsum in /usr/local/lib/python3.11/dist-packages (from jax<=0.4.31,>=0.4.24->jimgw==0.2.0) (3.4.0)\n",
            "Collecting wadler-lindig>=0.1.3 (from jaxtyping>=0.2.34->jimgw==0.2.0)\n",
            "  Downloading wadler_lindig-0.1.5-py3-none-any.whl.metadata (17 kB)\n",
            "Requirement already satisfied: iniconfig in /usr/local/lib/python3.11/dist-packages (from pytest>=8.3.3->jimgw==0.2.0) (2.1.0)\n",
            "Requirement already satisfied: pluggy<2,>=1.5 in /usr/local/lib/python3.11/dist-packages (from pytest>=8.3.3->jimgw==0.2.0) (1.5.0)\n",
            "Requirement already satisfied: docstring-parser>=0.15 in /usr/local/lib/python3.11/dist-packages (from typed-argument-parser>=1.10.1->jimgw==0.2.0) (0.16)\n",
            "Collecting typing-inspect>=0.7.1 (from typed-argument-parser>=1.10.1->jimgw==0.2.0)\n",
            "  Downloading typing_inspect-0.9.0-py3-none-any.whl.metadata (1.5 kB)\n",
            "Requirement already satisfied: pytz>=2024.2 in /usr/local/lib/python3.11/dist-packages (from dateparser>=1.1.4->gwpy>=3.0.10->jimgw==0.2.0) (2025.2)\n",
            "Requirement already satisfied: regex!=2019.02.19,!=2021.8.27,>=2015.06.24 in /usr/local/lib/python3.11/dist-packages (from dateparser>=1.1.4->gwpy>=3.0.10->jimgw==0.2.0) (2024.11.6)\n",
            "Requirement already satisfied: tzlocal>=0.2 in /usr/local/lib/python3.11/dist-packages (from dateparser>=1.1.4->gwpy>=3.0.10->jimgw==0.2.0) (5.3.1)\n",
            "INFO: pip is looking at multiple versions of equinox to determine which version is compatible with other requirements. This could take a while.\n",
            "Collecting equinox>=0.10.6 (from flowmc>=0.3.4->jimgw==0.2.0)\n",
            "  Downloading equinox-0.12.0-py3-none-any.whl.metadata (18 kB)\n",
            "  Downloading equinox-0.11.12-py3-none-any.whl.metadata (18 kB)\n",
            "  Downloading equinox-0.11.11-py3-none-any.whl.metadata (18 kB)\n",
            "  Downloading equinox-0.11.10-py3-none-any.whl.metadata (18 kB)\n",
            "Requirement already satisfied: typing-extensions>=4.5.0 in /usr/local/lib/python3.11/dist-packages (from equinox>=0.10.6->flowmc>=0.3.4->jimgw==0.2.0) (4.13.2)\n",
            "INFO: pip is looking at multiple versions of evosax to determine which version is compatible with other requirements. This could take a while.\n",
            "Collecting evosax>=0.1.4 (from flowmc>=0.3.4->jimgw==0.2.0)\n",
            "  Downloading evosax-0.1.6-py3-none-any.whl.metadata (26 kB)\n",
            "Requirement already satisfied: flax in /usr/local/lib/python3.11/dist-packages (from evosax>=0.1.4->flowmc>=0.3.4->jimgw==0.2.0) (0.10.6)\n",
            "Collecting dotmap (from evosax>=0.1.4->flowmc>=0.3.4->jimgw==0.2.0)\n",
            "  Downloading dotmap-1.3.30-py3-none-any.whl.metadata (3.2 kB)\n",
            "Collecting igwn-auth-utils>=0.3.1 (from gwdatafind>=1.1.0->gwpy>=3.0.10->jimgw==0.2.0)\n",
            "  Downloading igwn_auth_utils-1.3.1-py3-none-any.whl.metadata (4.1 kB)\n",
            "Requirement already satisfied: contourpy>=1.0.1 in /usr/local/lib/python3.11/dist-packages (from matplotlib>=2.1->corner>=2.2.2->jimgw==0.2.0) (1.3.2)\n",
            "Requirement already satisfied: cycler>=0.10 in /usr/local/lib/python3.11/dist-packages (from matplotlib>=2.1->corner>=2.2.2->jimgw==0.2.0) (0.12.1)\n",
            "Requirement already satisfied: fonttools>=4.22.0 in /usr/local/lib/python3.11/dist-packages (from matplotlib>=2.1->corner>=2.2.2->jimgw==0.2.0) (4.57.0)\n",
            "Requirement already satisfied: kiwisolver>=1.3.1 in /usr/local/lib/python3.11/dist-packages (from matplotlib>=2.1->corner>=2.2.2->jimgw==0.2.0) (1.4.8)\n",
            "Requirement already satisfied: pillow>=8 in /usr/local/lib/python3.11/dist-packages (from matplotlib>=2.1->corner>=2.2.2->jimgw==0.2.0) (11.2.1)\n",
            "Requirement already satisfied: pyparsing>=2.3.1 in /usr/local/lib/python3.11/dist-packages (from matplotlib>=2.1->corner>=2.2.2->jimgw==0.2.0) (3.2.3)\n",
            "Requirement already satisfied: absl-py>=0.7.1 in /usr/local/lib/python3.11/dist-packages (from optax>=0.1.5->flowmc>=0.3.4->jimgw==0.2.0) (1.4.0)\n",
            "Requirement already satisfied: etils[epy] in /usr/local/lib/python3.11/dist-packages (from optax>=0.1.5->flowmc>=0.3.4->jimgw==0.2.0) (1.12.2)\n",
            "Requirement already satisfied: six>=1.5 in /usr/local/lib/python3.11/dist-packages (from python-dateutil->gwpy>=3.0.10->jimgw==0.2.0) (1.17.0)\n",
            "Requirement already satisfied: charset-normalizer<4,>=2 in /usr/local/lib/python3.11/dist-packages (from requests>=2.20.0->gwpy>=3.0.10->jimgw==0.2.0) (3.4.1)\n",
            "Requirement already satisfied: idna<4,>=2.5 in /usr/local/lib/python3.11/dist-packages (from requests>=2.20.0->gwpy>=3.0.10->jimgw==0.2.0) (3.10)\n",
            "Requirement already satisfied: urllib3<3,>=1.21.1 in /usr/local/lib/python3.11/dist-packages (from requests>=2.20.0->gwpy>=3.0.10->jimgw==0.2.0) (2.4.0)\n",
            "Requirement already satisfied: certifi>=2017.4.17 in /usr/local/lib/python3.11/dist-packages (from requests>=2.20.0->gwpy>=3.0.10->jimgw==0.2.0) (2025.4.26)\n",
            "Collecting mypy-extensions>=0.3.0 (from typing-inspect>=0.7.1->typed-argument-parser>=1.10.1->jimgw==0.2.0)\n",
            "  Downloading mypy_extensions-1.1.0-py3-none-any.whl.metadata (1.1 kB)\n",
            "Requirement already satisfied: click>=6.7 in /usr/local/lib/python3.11/dist-packages (from dqsegdb2->gwpy>=3.0.10->jimgw==0.2.0) (8.1.8)\n",
            "Requirement already satisfied: toolz>=0.9.0 in /usr/local/lib/python3.11/dist-packages (from chex>=0.1.87->flowmc>=0.3.4->jimgw==0.2.0) (0.12.1)\n",
            "Collecting cryptography>=44.0.1 (from igwn-auth-utils>=0.3.1->gwdatafind>=1.1.0->gwpy>=3.0.10->jimgw==0.2.0)\n",
            "  Downloading cryptography-44.0.2-cp39-abi3-manylinux_2_34_x86_64.whl.metadata (5.7 kB)\n",
            "Collecting safe-netrc>=1.0 (from igwn-auth-utils>=0.3.1->gwdatafind>=1.1.0->gwpy>=3.0.10->jimgw==0.2.0)\n",
            "  Downloading safe_netrc-1.0.1-py3-none-any.whl.metadata (1.9 kB)\n",
            "Collecting scitokens>=1.8 (from igwn-auth-utils>=0.3.1->gwdatafind>=1.1.0->gwpy>=3.0.10->jimgw==0.2.0)\n",
            "  Downloading scitokens-1.8.1-py3-none-any.whl.metadata (12 kB)\n",
            "INFO: pip is looking at multiple versions of flax to determine which version is compatible with other requirements. This could take a while.\n",
            "Collecting flax (from evosax>=0.1.4->flowmc>=0.3.4->jimgw==0.2.0)\n",
            "  Downloading flax-0.10.5-py3-none-any.whl.metadata (11 kB)\n",
            "  Downloading flax-0.10.4-py3-none-any.whl.metadata (11 kB)\n",
            "Requirement already satisfied: msgpack in /usr/local/lib/python3.11/dist-packages (from flax->evosax>=0.1.4->flowmc>=0.3.4->jimgw==0.2.0) (1.1.0)\n",
            "Requirement already satisfied: orbax-checkpoint in /usr/local/lib/python3.11/dist-packages (from flax->evosax>=0.1.4->flowmc>=0.3.4->jimgw==0.2.0) (0.11.12)\n",
            "Requirement already satisfied: tensorstore in /usr/local/lib/python3.11/dist-packages (from flax->evosax>=0.1.4->flowmc>=0.3.4->jimgw==0.2.0) (0.1.74)\n",
            "Requirement already satisfied: rich>=11.1 in /usr/local/lib/python3.11/dist-packages (from flax->evosax>=0.1.4->flowmc>=0.3.4->jimgw==0.2.0) (13.9.4)\n",
            "Requirement already satisfied: treescope>=0.1.7 in /usr/local/lib/python3.11/dist-packages (from flax->evosax>=0.1.4->flowmc>=0.3.4->jimgw==0.2.0) (0.1.9)\n",
            "Requirement already satisfied: cffi>=1.12 in /usr/local/lib/python3.11/dist-packages (from cryptography>=44.0.1->igwn-auth-utils>=0.3.1->gwdatafind>=1.1.0->gwpy>=3.0.10->jimgw==0.2.0) (1.17.1)\n",
            "Requirement already satisfied: markdown-it-py>=2.2.0 in /usr/local/lib/python3.11/dist-packages (from rich>=11.1->flax->evosax>=0.1.4->flowmc>=0.3.4->jimgw==0.2.0) (3.0.0)\n",
            "Requirement already satisfied: pygments<3.0.0,>=2.13.0 in /usr/local/lib/python3.11/dist-packages (from rich>=11.1->flax->evosax>=0.1.4->flowmc>=0.3.4->jimgw==0.2.0) (2.19.1)\n",
            "Requirement already satisfied: PyJWT>=1.6.1 in /usr/local/lib/python3.11/dist-packages (from scitokens>=1.8->igwn-auth-utils>=0.3.1->gwdatafind>=1.1.0->gwpy>=3.0.10->jimgw==0.2.0) (2.10.1)\n",
            "INFO: pip is looking at multiple versions of orbax-checkpoint to determine which version is compatible with other requirements. This could take a while.\n",
            "Collecting orbax-checkpoint (from flax->evosax>=0.1.4->flowmc>=0.3.4->jimgw==0.2.0)\n",
            "  Downloading orbax_checkpoint-0.11.13-py3-none-any.whl.metadata (2.0 kB)\n",
            "  Downloading orbax_checkpoint-0.11.11-py3-none-any.whl.metadata (2.0 kB)\n",
            "  Downloading orbax_checkpoint-0.11.10-py3-none-any.whl.metadata (2.0 kB)\n",
            "  Downloading orbax_checkpoint-0.11.9-py3-none-any.whl.metadata (2.0 kB)\n",
            "  Downloading orbax_checkpoint-0.11.8-py3-none-any.whl.metadata (2.0 kB)\n",
            "  Downloading orbax_checkpoint-0.11.7-py3-none-any.whl.metadata (2.0 kB)\n",
            "  Downloading orbax_checkpoint-0.11.6-py3-none-any.whl.metadata (1.9 kB)\n",
            "INFO: pip is still looking at multiple versions of orbax-checkpoint to determine which version is compatible with other requirements. This could take a while.\n",
            "  Downloading orbax_checkpoint-0.11.5-py3-none-any.whl.metadata (1.9 kB)\n",
            "  Downloading orbax_checkpoint-0.11.4-py3-none-any.whl.metadata (1.9 kB)\n",
            "  Downloading orbax_checkpoint-0.11.3-py3-none-any.whl.metadata (1.9 kB)\n",
            "  Downloading orbax_checkpoint-0.11.2-py3-none-any.whl.metadata (1.9 kB)\n",
            "  Downloading orbax_checkpoint-0.11.1-py3-none-any.whl.metadata (1.9 kB)\n",
            "INFO: This is taking longer than usual. You might need to provide the dependency resolver with stricter constraints to reduce runtime. See https://pip.pypa.io/warnings/backtracking for guidance. If you want to abort this run, press Ctrl + C.\n",
            "  Downloading orbax_checkpoint-0.11.0-py3-none-any.whl.metadata (1.9 kB)\n",
            "  Downloading orbax_checkpoint-0.10.3-py3-none-any.whl.metadata (1.9 kB)\n",
            "  Downloading orbax_checkpoint-0.10.2-py3-none-any.whl.metadata (1.9 kB)\n",
            "  Downloading orbax_checkpoint-0.10.1-py3-none-any.whl.metadata (1.9 kB)\n",
            "  Downloading orbax_checkpoint-0.10.0-py3-none-any.whl.metadata (1.9 kB)\n",
            "  Downloading orbax_checkpoint-0.9.1-py3-none-any.whl.metadata (1.8 kB)\n",
            "  Downloading orbax_checkpoint-0.9.0-py3-none-any.whl.metadata (1.8 kB)\n",
            "  Downloading orbax_checkpoint-0.8.0-py3-none-any.whl.metadata (1.8 kB)\n",
            "  Downloading orbax_checkpoint-0.7.0-py3-none-any.whl.metadata (1.8 kB)\n",
            "  Downloading orbax_checkpoint-0.6.4-py3-none-any.whl.metadata (1.8 kB)\n",
            "Requirement already satisfied: nest_asyncio in /usr/local/lib/python3.11/dist-packages (from orbax-checkpoint->flax->evosax>=0.1.4->flowmc>=0.3.4->jimgw==0.2.0) (1.6.0)\n",
            "Requirement already satisfied: protobuf in /usr/local/lib/python3.11/dist-packages (from orbax-checkpoint->flax->evosax>=0.1.4->flowmc>=0.3.4->jimgw==0.2.0) (5.29.4)\n",
            "Requirement already satisfied: humanize in /usr/local/lib/python3.11/dist-packages (from orbax-checkpoint->flax->evosax>=0.1.4->flowmc>=0.3.4->jimgw==0.2.0) (4.12.2)\n",
            "Requirement already satisfied: pycparser in /usr/local/lib/python3.11/dist-packages (from cffi>=1.12->cryptography>=44.0.1->igwn-auth-utils>=0.3.1->gwdatafind>=1.1.0->gwpy>=3.0.10->jimgw==0.2.0) (2.22)\n",
            "Requirement already satisfied: mdurl~=0.1 in /usr/local/lib/python3.11/dist-packages (from markdown-it-py>=2.2.0->rich>=11.1->flax->evosax>=0.1.4->flowmc>=0.3.4->jimgw==0.2.0) (0.1.2)\n",
            "Requirement already satisfied: fsspec in /usr/local/lib/python3.11/dist-packages (from etils[epy]->optax>=0.1.5->flowmc>=0.3.4->jimgw==0.2.0) (2025.3.2)\n",
            "Requirement already satisfied: importlib_resources in /usr/local/lib/python3.11/dist-packages (from etils[epy]->optax>=0.1.5->flowmc>=0.3.4->jimgw==0.2.0) (6.5.2)\n",
            "Requirement already satisfied: zipp in /usr/local/lib/python3.11/dist-packages (from etils[epy]->optax>=0.1.5->flowmc>=0.3.4->jimgw==0.2.0) (3.21.0)\n",
            "Downloading beartype-0.20.2-py3-none-any.whl (1.2 MB)\n",
            "\u001b[2K   \u001b[90m━━━━━━━━━━━━━━━━━━━━━━━━━━━━━━━━━━━━━━━━\u001b[0m \u001b[32m1.2/1.2 MB\u001b[0m \u001b[31m41.0 MB/s\u001b[0m eta \u001b[36m0:00:00\u001b[0m\n",
            "\u001b[?25hDownloading corner-2.2.3-py3-none-any.whl (15 kB)\n",
            "Downloading flowMC-0.3.4-py3-none-any.whl (37 kB)\n",
            "Downloading gwpy-3.0.12-py3-none-any.whl (1.4 MB)\n",
            "\u001b[2K   \u001b[90m━━━━━━━━━━━━━━━━━━━━━━━━━━━━━━━━━━━━━━━━\u001b[0m \u001b[32m1.4/1.4 MB\u001b[0m \u001b[31m82.7 MB/s\u001b[0m eta \u001b[36m0:00:00\u001b[0m\n",
            "\u001b[?25hDownloading jax-0.4.31-py3-none-any.whl (2.0 MB)\n",
            "\u001b[2K   \u001b[90m━━━━━━━━━━━━━━━━━━━━━━━━━━━━━━━━━━━━━━━━\u001b[0m \u001b[32m2.0/2.0 MB\u001b[0m \u001b[31m106.6 MB/s\u001b[0m eta \u001b[36m0:00:00\u001b[0m\n",
            "\u001b[?25hDownloading jaxtyping-0.3.2-py3-none-any.whl (55 kB)\n",
            "\u001b[2K   \u001b[90m━━━━━━━━━━━━━━━━━━━━━━━━━━━━━━━━━━━━━━━━\u001b[0m \u001b[32m55.4/55.4 kB\u001b[0m \u001b[31m7.2 MB/s\u001b[0m eta \u001b[36m0:00:00\u001b[0m\n",
            "\u001b[?25hDownloading ripplegw-0.0.9-py3-none-any.whl (906 kB)\n",
            "\u001b[2K   \u001b[90m━━━━━━━━━━━━━━━━━━━━━━━━━━━━━━━━━━━━━━━━\u001b[0m \u001b[32m906.7/906.7 kB\u001b[0m \u001b[31m66.6 MB/s\u001b[0m eta \u001b[36m0:00:00\u001b[0m\n",
            "\u001b[?25hDownloading typed_argument_parser-1.10.1-py3-none-any.whl (30 kB)\n",
            "Downloading dateparser-1.2.1-py3-none-any.whl (295 kB)\n",
            "\u001b[2K   \u001b[90m━━━━━━━━━━━━━━━━━━━━━━━━━━━━━━━━━━━━━━━━\u001b[0m \u001b[32m295.7/295.7 kB\u001b[0m \u001b[31m33.5 MB/s\u001b[0m eta \u001b[36m0:00:00\u001b[0m\n",
            "\u001b[?25hDownloading equinox-0.11.10-py3-none-any.whl (178 kB)\n",
            "\u001b[2K   \u001b[90m━━━━━━━━━━━━━━━━━━━━━━━━━━━━━━━━━━━━━━━━\u001b[0m \u001b[32m178.9/178.9 kB\u001b[0m \u001b[31m22.0 MB/s\u001b[0m eta \u001b[36m0:00:00\u001b[0m\n",
            "\u001b[?25hDownloading evosax-0.1.6-py3-none-any.whl (240 kB)\n",
            "\u001b[2K   \u001b[90m━━━━━━━━━━━━━━━━━━━━━━━━━━━━━━━━━━━━━━━━\u001b[0m \u001b[32m240.4/240.4 kB\u001b[0m \u001b[31m29.7 MB/s\u001b[0m eta \u001b[36m0:00:00\u001b[0m\n",
            "\u001b[?25hDownloading gwdatafind-2.0.0-py3-none-any.whl (39 kB)\n",
            "Downloading gwosc-0.8.0-py3-none-any.whl (32 kB)\n",
            "Downloading igwn_segments-2.0.0-cp311-cp311-manylinux_2_5_x86_64.manylinux1_x86_64.manylinux_2_28_x86_64.whl (110 kB)\n",
            "\u001b[2K   \u001b[90m━━━━━━━━━━━━━━━━━━━━━━━━━━━━━━━━━━━━━━━━\u001b[0m \u001b[32m110.5/110.5 kB\u001b[0m \u001b[31m14.7 MB/s\u001b[0m eta \u001b[36m0:00:00\u001b[0m\n",
            "\u001b[?25hDownloading jaxlib-0.4.31-cp311-cp311-manylinux2014_x86_64.whl (88.1 MB)\n",
            "\u001b[2K   \u001b[90m━━━━━━━━━━━━━━━━━━━━━━━━━━━━━━━━━━━━━━━━\u001b[0m \u001b[32m88.1/88.1 MB\u001b[0m \u001b[31m10.3 MB/s\u001b[0m eta \u001b[36m0:00:00\u001b[0m\n",
            "\u001b[?25hDownloading ligotimegps-2.0.1-py2.py3-none-any.whl (19 kB)\n",
            "Downloading typing_inspect-0.9.0-py3-none-any.whl (8.8 kB)\n",
            "Downloading wadler_lindig-0.1.5-py3-none-any.whl (20 kB)\n",
            "Downloading dqsegdb2-1.3.0-py3-none-any.whl (27 kB)\n",
            "Downloading igwn_auth_utils-1.3.1-py3-none-any.whl (34 kB)\n",
            "Downloading mypy_extensions-1.1.0-py3-none-any.whl (5.0 kB)\n",
            "Downloading dotmap-1.3.30-py3-none-any.whl (11 kB)\n",
            "Downloading flax-0.10.4-py3-none-any.whl (451 kB)\n",
            "\u001b[2K   \u001b[90m━━━━━━━━━━━━━━━━━━━━━━━━━━━━━━━━━━━━━━━━\u001b[0m \u001b[32m451.8/451.8 kB\u001b[0m \u001b[31m47.0 MB/s\u001b[0m eta \u001b[36m0:00:00\u001b[0m\n",
            "\u001b[?25hDownloading cryptography-44.0.2-cp39-abi3-manylinux_2_34_x86_64.whl (4.2 MB)\n",
            "\u001b[2K   \u001b[90m━━━━━━━━━━━━━━━━━━━━━━━━━━━━━━━━━━━━━━━━\u001b[0m \u001b[32m4.2/4.2 MB\u001b[0m \u001b[31m126.9 MB/s\u001b[0m eta \u001b[36m0:00:00\u001b[0m\n",
            "\u001b[?25hDownloading safe_netrc-1.0.1-py3-none-any.whl (10 kB)\n",
            "Downloading scitokens-1.8.1-py3-none-any.whl (31 kB)\n",
            "Downloading orbax_checkpoint-0.6.4-py3-none-any.whl (270 kB)\n",
            "\u001b[2K   \u001b[90m━━━━━━━━━━━━━━━━━━━━━━━━━━━━━━━━━━━━━━━━\u001b[0m \u001b[32m270.5/270.5 kB\u001b[0m \u001b[31m28.2 MB/s\u001b[0m eta \u001b[36m0:00:00\u001b[0m\n",
            "\u001b[?25hBuilding wheels for collected packages: jimgw\n",
            "  Building wheel for jimgw (pyproject.toml) ... \u001b[?25l\u001b[?25hdone\n",
            "  Created wheel for jimgw: filename=jimgw-0.2.0-py3-none-any.whl size=38428 sha256=624cfadfe7f327cf757b5372b3aa00d58f0381be7a68823f102dd0ffad00fa46\n",
            "  Stored in directory: /tmp/pip-ephem-wheel-cache-34xsjl2j/wheels/42/c5/ca/414dd4dce8e6f01f8b3257b475919dbf05e1a5968b1df0ff1c\n",
            "Successfully built jimgw\n",
            "Installing collected packages: igwn-segments, dotmap, wadler-lindig, safe-netrc, mypy-extensions, ligotimegps, beartype, typing-inspect, jaxtyping, jaxlib, gwosc, dateparser, cryptography, typed-argument-parser, scitokens, jax, corner, ripplegw, orbax-checkpoint, igwn-auth-utils, equinox, gwdatafind, dqsegdb2, gwpy, flax, evosax, flowmc, jimgw\n",
            "  Attempting uninstall: jaxlib\n",
            "    Found existing installation: jaxlib 0.5.1\n",
            "    Uninstalling jaxlib-0.5.1:\n",
            "      Successfully uninstalled jaxlib-0.5.1\n",
            "  Attempting uninstall: cryptography\n",
            "    Found existing installation: cryptography 43.0.3\n",
            "    Uninstalling cryptography-43.0.3:\n",
            "      Successfully uninstalled cryptography-43.0.3\n",
            "  Attempting uninstall: jax\n",
            "    Found existing installation: jax 0.5.2\n",
            "    Uninstalling jax-0.5.2:\n",
            "      Successfully uninstalled jax-0.5.2\n",
            "  Attempting uninstall: orbax-checkpoint\n",
            "    Found existing installation: orbax-checkpoint 0.11.12\n",
            "    Uninstalling orbax-checkpoint-0.11.12:\n",
            "      Successfully uninstalled orbax-checkpoint-0.11.12\n",
            "  Attempting uninstall: flax\n",
            "    Found existing installation: flax 0.10.6\n",
            "    Uninstalling flax-0.10.6:\n",
            "      Successfully uninstalled flax-0.10.6\n",
            "\u001b[31mERROR: pip's dependency resolver does not currently take into account all the packages that are installed. This behaviour is the source of the following dependency conflicts.\n",
            "pyopenssl 24.2.1 requires cryptography<44,>=41.0.5, but you have cryptography 44.0.2 which is incompatible.\n",
            "pydrive2 1.21.3 requires cryptography<44, but you have cryptography 44.0.2 which is incompatible.\u001b[0m\u001b[31m\n",
            "\u001b[0mSuccessfully installed beartype-0.20.2 corner-2.2.3 cryptography-44.0.2 dateparser-1.2.1 dotmap-1.3.30 dqsegdb2-1.3.0 equinox-0.11.10 evosax-0.1.6 flax-0.10.4 flowmc-0.3.4 gwdatafind-2.0.0 gwosc-0.8.0 gwpy-3.0.12 igwn-auth-utils-1.3.1 igwn-segments-2.0.0 jax-0.4.31 jaxlib-0.4.31 jaxtyping-0.3.2 jimgw-0.2.0 ligotimegps-2.0.1 mypy-extensions-1.1.0 orbax-checkpoint-0.6.4 ripplegw-0.0.9 safe-netrc-1.0.1 scitokens-1.8.1 typed-argument-parser-1.10.1 typing-inspect-0.9.0 wadler-lindig-0.1.5\n"
          ]
        }
      ],
      "source": [
        "!pip install git+https://github.com/adil3319/jim\n",
        "#!pip install jimGW"
      ]
    },
    {
      "cell_type": "code",
      "execution_count": 2,
      "metadata": {
        "colab": {
          "base_uri": "https://localhost:8080/"
        },
        "id": "FMe9S-SsRWJd",
        "outputId": "8df044a8-5884-4ea3-acbe-e889f7955a4e"
      },
      "outputs": [
        {
          "output_type": "stream",
          "name": "stdout",
          "text": [
            "Looking in links: https://storage.googleapis.com/jax-releases/jax_cuda_releases.html\n",
            "Requirement already satisfied: jax[cuda] in /usr/local/lib/python3.11/dist-packages (0.4.31)\n",
            "Collecting jax[cuda]\n",
            "  Downloading jax-0.6.0-py3-none-any.whl.metadata (22 kB)\n",
            "Collecting jaxlib<=0.6.0,>=0.6.0 (from jax[cuda])\n",
            "  Downloading jaxlib-0.6.0-cp311-cp311-manylinux2014_x86_64.whl.metadata (1.2 kB)\n",
            "Collecting ml_dtypes>=0.5.0 (from jax[cuda])\n",
            "  Downloading ml_dtypes-0.5.1-cp311-cp311-manylinux_2_17_x86_64.manylinux2014_x86_64.whl.metadata (21 kB)\n",
            "Requirement already satisfied: numpy>=1.25 in /usr/local/lib/python3.11/dist-packages (from jax[cuda]) (2.0.2)\n",
            "Requirement already satisfied: opt_einsum in /usr/local/lib/python3.11/dist-packages (from jax[cuda]) (3.4.0)\n",
            "Requirement already satisfied: scipy>=1.11.1 in /usr/local/lib/python3.11/dist-packages (from jax[cuda]) (1.15.2)\n",
            "Collecting jax-cuda12-plugin<=0.6.0,>=0.6.0 (from jax-cuda12-plugin[with-cuda]<=0.6.0,>=0.6.0; extra == \"cuda\"->jax[cuda])\n",
            "  Downloading jax_cuda12_plugin-0.6.0-cp311-cp311-manylinux2014_x86_64.whl.metadata (1.4 kB)\n",
            "Collecting jax-cuda12-pjrt==0.6.0 (from jax-cuda12-plugin<=0.6.0,>=0.6.0->jax-cuda12-plugin[with-cuda]<=0.6.0,>=0.6.0; extra == \"cuda\"->jax[cuda])\n",
            "  Downloading jax_cuda12_pjrt-0.6.0-py3-none-manylinux2014_x86_64.whl.metadata (492 bytes)\n",
            "Requirement already satisfied: nvidia-cublas-cu12>=12.1.3.1 in /usr/local/lib/python3.11/dist-packages (from jax-cuda12-plugin[with-cuda]<=0.6.0,>=0.6.0; extra == \"cuda\"->jax[cuda]) (12.5.3.2)\n",
            "Requirement already satisfied: nvidia-cuda-cupti-cu12>=12.1.105 in /usr/local/lib/python3.11/dist-packages (from jax-cuda12-plugin[with-cuda]<=0.6.0,>=0.6.0; extra == \"cuda\"->jax[cuda]) (12.5.82)\n",
            "Collecting nvidia-cuda-nvcc-cu12>=12.6.85 (from jax-cuda12-plugin[with-cuda]<=0.6.0,>=0.6.0; extra == \"cuda\"->jax[cuda])\n",
            "  Downloading nvidia_cuda_nvcc_cu12-12.9.41-py3-none-manylinux2010_x86_64.manylinux_2_12_x86_64.whl.metadata (1.7 kB)\n",
            "Requirement already satisfied: nvidia-cuda-runtime-cu12>=12.1.105 in /usr/local/lib/python3.11/dist-packages (from jax-cuda12-plugin[with-cuda]<=0.6.0,>=0.6.0; extra == \"cuda\"->jax[cuda]) (12.5.82)\n",
            "Collecting nvidia-cudnn-cu12<10.0,>=9.8 (from jax-cuda12-plugin[with-cuda]<=0.6.0,>=0.6.0; extra == \"cuda\"->jax[cuda])\n",
            "  Downloading nvidia_cudnn_cu12-9.8.0.87-py3-none-manylinux_2_27_x86_64.whl.metadata (1.8 kB)\n",
            "Requirement already satisfied: nvidia-cufft-cu12>=11.0.2.54 in /usr/local/lib/python3.11/dist-packages (from jax-cuda12-plugin[with-cuda]<=0.6.0,>=0.6.0; extra == \"cuda\"->jax[cuda]) (11.2.3.61)\n",
            "Requirement already satisfied: nvidia-cusolver-cu12>=11.4.5.107 in /usr/local/lib/python3.11/dist-packages (from jax-cuda12-plugin[with-cuda]<=0.6.0,>=0.6.0; extra == \"cuda\"->jax[cuda]) (11.6.3.83)\n",
            "Requirement already satisfied: nvidia-cusparse-cu12>=12.1.0.106 in /usr/local/lib/python3.11/dist-packages (from jax-cuda12-plugin[with-cuda]<=0.6.0,>=0.6.0; extra == \"cuda\"->jax[cuda]) (12.5.1.3)\n",
            "Requirement already satisfied: nvidia-nccl-cu12>=2.18.1 in /usr/local/lib/python3.11/dist-packages (from jax-cuda12-plugin[with-cuda]<=0.6.0,>=0.6.0; extra == \"cuda\"->jax[cuda]) (2.21.5)\n",
            "Requirement already satisfied: nvidia-nvjitlink-cu12>=12.1.105 in /usr/local/lib/python3.11/dist-packages (from jax-cuda12-plugin[with-cuda]<=0.6.0,>=0.6.0; extra == \"cuda\"->jax[cuda]) (12.5.82)\n",
            "Downloading jax_cuda12_plugin-0.6.0-cp311-cp311-manylinux2014_x86_64.whl (15.8 MB)\n",
            "\u001b[2K   \u001b[90m━━━━━━━━━━━━━━━━━━━━━━━━━━━━━━━━━━━━━━━━\u001b[0m \u001b[32m15.8/15.8 MB\u001b[0m \u001b[31m99.3 MB/s\u001b[0m eta \u001b[36m0:00:00\u001b[0m\n",
            "\u001b[?25hDownloading jax_cuda12_pjrt-0.6.0-py3-none-manylinux2014_x86_64.whl (123.4 MB)\n",
            "\u001b[2K   \u001b[90m━━━━━━━━━━━━━━━━━━━━━━━━━━━━━━━━━━━━━━━━\u001b[0m \u001b[32m123.4/123.4 MB\u001b[0m \u001b[31m7.3 MB/s\u001b[0m eta \u001b[36m0:00:00\u001b[0m\n",
            "\u001b[?25hDownloading jaxlib-0.6.0-cp311-cp311-manylinux2014_x86_64.whl (87.8 MB)\n",
            "\u001b[2K   \u001b[90m━━━━━━━━━━━━━━━━━━━━━━━━━━━━━━━━━━━━━━━━\u001b[0m \u001b[32m87.8/87.8 MB\u001b[0m \u001b[31m9.2 MB/s\u001b[0m eta \u001b[36m0:00:00\u001b[0m\n",
            "\u001b[?25hDownloading ml_dtypes-0.5.1-cp311-cp311-manylinux_2_17_x86_64.manylinux2014_x86_64.whl (4.7 MB)\n",
            "\u001b[2K   \u001b[90m━━━━━━━━━━━━━━━━━━━━━━━━━━━━━━━━━━━━━━━━\u001b[0m \u001b[32m4.7/4.7 MB\u001b[0m \u001b[31m126.7 MB/s\u001b[0m eta \u001b[36m0:00:00\u001b[0m\n",
            "\u001b[?25hDownloading jax-0.6.0-py3-none-any.whl (2.3 MB)\n",
            "\u001b[2K   \u001b[90m━━━━━━━━━━━━━━━━━━━━━━━━━━━━━━━━━━━━━━━━\u001b[0m \u001b[32m2.3/2.3 MB\u001b[0m \u001b[31m100.9 MB/s\u001b[0m eta \u001b[36m0:00:00\u001b[0m\n",
            "\u001b[?25hDownloading nvidia_cuda_nvcc_cu12-12.9.41-py3-none-manylinux2010_x86_64.manylinux_2_12_x86_64.whl (40.6 MB)\n",
            "\u001b[2K   \u001b[90m━━━━━━━━━━━━━━━━━━━━━━━━━━━━━━━━━━━━━━━━\u001b[0m \u001b[32m40.6/40.6 MB\u001b[0m \u001b[31m19.2 MB/s\u001b[0m eta \u001b[36m0:00:00\u001b[0m\n",
            "\u001b[?25hDownloading nvidia_cudnn_cu12-9.8.0.87-py3-none-manylinux_2_27_x86_64.whl (698.0 MB)\n",
            "\u001b[2K   \u001b[90m━━━━━━━━━━━━━━━━━━━━━━━━━━━━━━━━━━━━━━━━\u001b[0m \u001b[32m698.0/698.0 MB\u001b[0m \u001b[31m2.6 MB/s\u001b[0m eta \u001b[36m0:00:00\u001b[0m\n",
            "\u001b[?25hInstalling collected packages: jax-cuda12-pjrt, nvidia-cudnn-cu12, nvidia-cuda-nvcc-cu12, ml_dtypes, jax-cuda12-plugin, jaxlib, jax\n",
            "  Attempting uninstall: jax-cuda12-pjrt\n",
            "    Found existing installation: jax-cuda12-pjrt 0.5.1\n",
            "    Uninstalling jax-cuda12-pjrt-0.5.1:\n",
            "      Successfully uninstalled jax-cuda12-pjrt-0.5.1\n",
            "  Attempting uninstall: nvidia-cudnn-cu12\n",
            "    Found existing installation: nvidia-cudnn-cu12 9.3.0.75\n",
            "    Uninstalling nvidia-cudnn-cu12-9.3.0.75:\n",
            "      Successfully uninstalled nvidia-cudnn-cu12-9.3.0.75\n",
            "  Attempting uninstall: nvidia-cuda-nvcc-cu12\n",
            "    Found existing installation: nvidia-cuda-nvcc-cu12 12.5.82\n",
            "    Uninstalling nvidia-cuda-nvcc-cu12-12.5.82:\n",
            "      Successfully uninstalled nvidia-cuda-nvcc-cu12-12.5.82\n",
            "  Attempting uninstall: ml_dtypes\n",
            "    Found existing installation: ml-dtypes 0.4.1\n",
            "    Uninstalling ml-dtypes-0.4.1:\n",
            "      Successfully uninstalled ml-dtypes-0.4.1\n",
            "  Attempting uninstall: jax-cuda12-plugin\n",
            "    Found existing installation: jax-cuda12-plugin 0.5.1\n",
            "    Uninstalling jax-cuda12-plugin-0.5.1:\n",
            "      Successfully uninstalled jax-cuda12-plugin-0.5.1\n",
            "  Attempting uninstall: jaxlib\n",
            "    Found existing installation: jaxlib 0.4.31\n",
            "    Uninstalling jaxlib-0.4.31:\n",
            "      Successfully uninstalled jaxlib-0.4.31\n",
            "  Attempting uninstall: jax\n",
            "    Found existing installation: jax 0.4.31\n",
            "    Uninstalling jax-0.4.31:\n",
            "      Successfully uninstalled jax-0.4.31\n",
            "\u001b[31mERROR: pip's dependency resolver does not currently take into account all the packages that are installed. This behaviour is the source of the following dependency conflicts.\n",
            "jimgw 0.2.0 requires jax<=0.4.31,>=0.4.24, but you have jax 0.6.0 which is incompatible.\n",
            "torch 2.6.0+cu124 requires nvidia-cublas-cu12==12.4.5.8; platform_system == \"Linux\" and platform_machine == \"x86_64\", but you have nvidia-cublas-cu12 12.5.3.2 which is incompatible.\n",
            "torch 2.6.0+cu124 requires nvidia-cuda-cupti-cu12==12.4.127; platform_system == \"Linux\" and platform_machine == \"x86_64\", but you have nvidia-cuda-cupti-cu12 12.5.82 which is incompatible.\n",
            "torch 2.6.0+cu124 requires nvidia-cuda-nvrtc-cu12==12.4.127; platform_system == \"Linux\" and platform_machine == \"x86_64\", but you have nvidia-cuda-nvrtc-cu12 12.5.82 which is incompatible.\n",
            "torch 2.6.0+cu124 requires nvidia-cuda-runtime-cu12==12.4.127; platform_system == \"Linux\" and platform_machine == \"x86_64\", but you have nvidia-cuda-runtime-cu12 12.5.82 which is incompatible.\n",
            "torch 2.6.0+cu124 requires nvidia-cudnn-cu12==9.1.0.70; platform_system == \"Linux\" and platform_machine == \"x86_64\", but you have nvidia-cudnn-cu12 9.8.0.87 which is incompatible.\n",
            "torch 2.6.0+cu124 requires nvidia-cufft-cu12==11.2.1.3; platform_system == \"Linux\" and platform_machine == \"x86_64\", but you have nvidia-cufft-cu12 11.2.3.61 which is incompatible.\n",
            "torch 2.6.0+cu124 requires nvidia-curand-cu12==10.3.5.147; platform_system == \"Linux\" and platform_machine == \"x86_64\", but you have nvidia-curand-cu12 10.3.6.82 which is incompatible.\n",
            "torch 2.6.0+cu124 requires nvidia-cusolver-cu12==11.6.1.9; platform_system == \"Linux\" and platform_machine == \"x86_64\", but you have nvidia-cusolver-cu12 11.6.3.83 which is incompatible.\n",
            "torch 2.6.0+cu124 requires nvidia-cusparse-cu12==12.3.1.170; platform_system == \"Linux\" and platform_machine == \"x86_64\", but you have nvidia-cusparse-cu12 12.5.1.3 which is incompatible.\n",
            "torch 2.6.0+cu124 requires nvidia-nvjitlink-cu12==12.4.127; platform_system == \"Linux\" and platform_machine == \"x86_64\", but you have nvidia-nvjitlink-cu12 12.5.82 which is incompatible.\n",
            "tensorflow 2.18.0 requires ml-dtypes<0.5.0,>=0.4.0, but you have ml-dtypes 0.5.1 which is incompatible.\u001b[0m\u001b[31m\n",
            "\u001b[0mSuccessfully installed jax-0.6.0 jax-cuda12-pjrt-0.6.0 jax-cuda12-plugin-0.6.0 jaxlib-0.6.0 ml_dtypes-0.5.1 nvidia-cuda-nvcc-cu12-12.9.41 nvidia-cudnn-cu12-9.8.0.87\n"
          ]
        }
      ],
      "source": [
        "# For CUDA 12 with cuDNN 8.9\n",
        "!pip install --upgrade \"jax[cuda]\" -f https://storage.googleapis.com/jax-releases/jax_cuda_releases.html"
      ]
    },
    {
      "cell_type": "code",
      "source": [
        "!pip install --upgrade equinox"
      ],
      "metadata": {
        "colab": {
          "base_uri": "https://localhost:8080/"
        },
        "id": "xO4mrIZmOuLz",
        "outputId": "520ea362-e45b-4909-c13b-6ee4625f7788"
      },
      "execution_count": 3,
      "outputs": [
        {
          "output_type": "stream",
          "name": "stdout",
          "text": [
            "Requirement already satisfied: equinox in /usr/local/lib/python3.11/dist-packages (0.11.10)\n",
            "Collecting equinox\n",
            "  Using cached equinox-0.12.1-py3-none-any.whl.metadata (18 kB)\n",
            "Requirement already satisfied: jax>=0.4.38 in /usr/local/lib/python3.11/dist-packages (from equinox) (0.6.0)\n",
            "Requirement already satisfied: jaxtyping>=0.2.20 in /usr/local/lib/python3.11/dist-packages (from equinox) (0.3.2)\n",
            "Requirement already satisfied: typing-extensions>=4.5.0 in /usr/local/lib/python3.11/dist-packages (from equinox) (4.13.2)\n",
            "Requirement already satisfied: wadler-lindig>=0.1.0 in /usr/local/lib/python3.11/dist-packages (from equinox) (0.1.5)\n",
            "Requirement already satisfied: jaxlib<=0.6.0,>=0.6.0 in /usr/local/lib/python3.11/dist-packages (from jax>=0.4.38->equinox) (0.6.0)\n",
            "Requirement already satisfied: ml_dtypes>=0.5.0 in /usr/local/lib/python3.11/dist-packages (from jax>=0.4.38->equinox) (0.5.1)\n",
            "Requirement already satisfied: numpy>=1.25 in /usr/local/lib/python3.11/dist-packages (from jax>=0.4.38->equinox) (2.0.2)\n",
            "Requirement already satisfied: opt_einsum in /usr/local/lib/python3.11/dist-packages (from jax>=0.4.38->equinox) (3.4.0)\n",
            "Requirement already satisfied: scipy>=1.11.1 in /usr/local/lib/python3.11/dist-packages (from jax>=0.4.38->equinox) (1.15.2)\n",
            "Downloading equinox-0.12.1-py3-none-any.whl (177 kB)\n",
            "\u001b[2K   \u001b[90m━━━━━━━━━━━━━━━━━━━━━━━━━━━━━━━━━━━━━━━━\u001b[0m \u001b[32m177.1/177.1 kB\u001b[0m \u001b[31m10.3 MB/s\u001b[0m eta \u001b[36m0:00:00\u001b[0m\n",
            "\u001b[?25hInstalling collected packages: equinox\n",
            "  Attempting uninstall: equinox\n",
            "    Found existing installation: equinox 0.11.10\n",
            "    Uninstalling equinox-0.11.10:\n",
            "      Successfully uninstalled equinox-0.11.10\n",
            "\u001b[31mERROR: pip's dependency resolver does not currently take into account all the packages that are installed. This behaviour is the source of the following dependency conflicts.\n",
            "jimgw 0.2.0 requires jax<=0.4.31,>=0.4.24, but you have jax 0.6.0 which is incompatible.\u001b[0m\u001b[31m\n",
            "\u001b[0mSuccessfully installed equinox-0.12.1\n"
          ]
        }
      ]
    },
    {
      "cell_type": "code",
      "execution_count": 4,
      "metadata": {
        "id": "gGc6wB30-tTh"
      },
      "outputs": [],
      "source": [
        "import numpy as np\n",
        "import jax.numpy as jnp"
      ]
    },
    {
      "cell_type": "code",
      "execution_count": 5,
      "metadata": {
        "id": "bRT2jyPSUU18"
      },
      "outputs": [],
      "source": [
        "import time\n",
        "\n",
        "import jax\n",
        "#jax.config.update(\"jax_debug_nans\", True)\n",
        "import jax.numpy as jnp\n",
        "\n",
        "from jimgw.jim import Jim\n",
        "from jimgw.prior import *\n",
        "#from jimgw.jim import Jim\n",
        "# from jimgw.prior import (\n",
        "#     CombinePrior,\n",
        "#     UniformPrior,\n",
        "#     CosinePrior,\n",
        "#     SinePrior,\n",
        "#     PowerLawPrior,\n",
        "#     UniformSpherePrior,\n",
        "# )\n",
        "from jimgw.single_event.detector import H1, L1, V1\n",
        "from jimgw.single_event.likelihood import TransientLikelihoodFD, HeterodynedTransientLikelihoodFD\n",
        "from jimgw.single_event.waveform import RippleIMRPhenomD,RippleIMRPhenomD_NRTidalv2,RippleTaylorF2\n",
        "from jimgw.transforms import BoundToUnbound\n",
        "from jimgw.single_event.transforms import (\n",
        "    SkyFrameToDetectorFrameSkyPositionTransform,\n",
        "    SphereSpinToCartesianSpinTransform,\n",
        "    MassRatioToSymmetricMassRatioTransform,\n",
        "    DistanceToSNRWeightedDistanceTransform,\n",
        "    GeocentricArrivalTimeToDetectorArrivalTimeTransform,\n",
        "    GeocentricArrivalPhaseToDetectorArrivalPhaseTransform,\n",
        ")\n",
        "from jimgw.single_event.utils import Mc_q_to_m1_m2\n",
        "from flowMC.strategy.optimization import optimization_Adam\n",
        "\n",
        "jax.config.update(\"jax_enable_x64\", True)\n",
        "\n",
        "###########################################\n",
        "########## First we grab data #############\n",
        "###########################################\n",
        "\n",
        "total_time_start = time.time()\n",
        "\n",
        "# first, fetch a 4s segment centered on GW150914\n",
        "\n",
        "ifos = [H1, L1, V1]\n",
        "\n",
        "\n",
        "# tukey_alpha = 2 / (duration / 2)\n",
        "# H1.load_data(\n",
        "#     gps, duration, 2, fmin, fmax, psd_pad=duration + 16, tukey_alpha=tukey_alpha\n",
        "# )\n",
        "# L1.load_data(\n",
        "#     gps, duration, 2, fmin, fmax, psd_pad=duration + 16, tukey_alpha=tukey_alpha\n",
        "# )\n",
        "# V1.load_data(\n",
        "#     gps, duration, 2, fmin, fmax, psd_pad=duration + 16, tukey_alpha=tukey_alpha\n",
        "# )\n",
        "\n",
        "H1.frequencies = np.genfromtxt('H1_freq.txt')\n",
        "H1_data_re, H1_data_im = np.genfromtxt('H1_data_re.txt'), np.genfromtxt('H1_data_im.txt')\n",
        "H1.data = H1_data_re + 1j * H1_data_im\n",
        "H1_jnp = jax.numpy.array(H1.frequencies)\n",
        "\n",
        "L1.frequencies = np.genfromtxt('L1_freq.txt')\n",
        "L1_data_re, L1_data_im = np.genfromtxt('L1_data_re.txt'), np.genfromtxt('L1_data_im.txt')\n",
        "L1.data = L1_data_re + 1j * L1_data_im\n",
        "L1_jnp = jax.numpy.array(L1.frequencies)\n",
        "\n",
        "V1.frequencies = np.genfromtxt('V1_freq.txt')\n",
        "V1_data_re, V1_data_im = np.genfromtxt('V1_data_re.txt'), np.genfromtxt('V1_data_im.txt')\n",
        "V1.data = V1_data_re + 1j * V1_data_im\n",
        "V1_jnp = jax.numpy.array(V1.frequencies)\n",
        "# Load the PSD\n",
        "\n",
        "H1.psd = H1.load_psd(H1_jnp, psd_file =\"GW170817-IMRD_data0_1187008882-43_generation_data_dump.pickle_H1_psd.txt\")\n",
        "L1.psd = L1.load_psd(L1_jnp, psd_file = \"GW170817-IMRD_data0_1187008882-43_generation_data_dump.pickle_L1_psd.txt\")\n",
        "V1.psd = V1.load_psd(V1_jnp, psd_file = \"GW170817-IMRD_data0_1187008882-43_generation_data_dump.pickle_V1_psd.txt\")\n",
        "\n",
        "\n",
        "\n"
      ]
    },
    {
      "cell_type": "code",
      "execution_count": 6,
      "metadata": {
        "colab": {
          "base_uri": "https://localhost:8080/"
        },
        "id": "dhToJO_B22lG",
        "outputId": "c5452dda-3a31-4498-b394-d1e4ccc3d9e3"
      },
      "outputs": [
        {
          "output_type": "execute_result",
          "data": {
            "text/plain": [
              "(259583, np.float64(20.0078125))"
            ]
          },
          "metadata": {},
          "execution_count": 6
        }
      ],
      "source": [
        "len(H1.psd),min(H1.frequencies)"
      ]
    },
    {
      "cell_type": "markdown",
      "metadata": {
        "id": "vwIQ6g2jbqYG"
      },
      "source": [
        "##  WAVEFORM MODEL"
      ]
    },
    {
      "cell_type": "code",
      "execution_count": 7,
      "metadata": {
        "id": "gKLQ1eWacg4r"
      },
      "outputs": [],
      "source": [
        "from abc import ABC\n",
        "\n",
        "import jax.numpy as jnp\n",
        "from jaxtyping import Array, Float\n",
        "from ripplegw.waveforms.IMRPhenomD import gen_IMRPhenomD_hphc"
      ]
    },
    {
      "cell_type": "code",
      "execution_count": 8,
      "metadata": {
        "id": "i9pX4ytUcZuF"
      },
      "outputs": [],
      "source": [
        "class Waveform(ABC):\n",
        "    def __init__(self):\n",
        "        return NotImplemented\n",
        "\n",
        "    def __call__(\n",
        "        self, axis: Float[Array, \" n_dim\"], params: dict[str, Float]\n",
        "    ) -> dict[str, Float[Array, \" n_dim\"]]:\n",
        "        return NotImplemented\n"
      ]
    },
    {
      "cell_type": "code",
      "execution_count": 9,
      "metadata": {
        "id": "sCHNcxvSbnuY"
      },
      "outputs": [],
      "source": [
        "class RippleIMRPhenomD_MGR(Waveform):\n",
        "    f_ref: float\n",
        "\n",
        "    def __init__(self, f_ref: float = 20.0, **kwargs):\n",
        "        self.f_ref = f_ref\n",
        "\n",
        "    def __call__(\n",
        "        self, frequency: Float[Array, \" n_dim\"], params: dict[str, Float]\n",
        "    ) -> dict[str, Float[Array, \" n_dim\"]]:\n",
        "        output = {}\n",
        "        theta = jnp.array(\n",
        "            [\n",
        "                params[\"M_c\"],\n",
        "                params[\"eta\"],\n",
        "                params[\"s1_z\"],\n",
        "                params[\"s2_z\"],\n",
        "                params[\"d_L\"],\n",
        "                0,\n",
        "                params[\"phase_c\"],\n",
        "                params[\"iota\"],\n",
        "                params[\"alpha\"],\n",
        "                params[\"beta\"]\n",
        "            ]\n",
        "        )\n",
        "        hp, hc = gen_IMRPhenomD_hphc(frequency, theta, self.f_ref)\n",
        "        cf =1.4765e3\n",
        "        c=2.998e8\n",
        "        u=(jnp.pi*(theta[0]/theta[1]**0.6)*frequency*cf/c)**(1/3) # cf =1.4765e3 m\n",
        "        a,b=-2,-7\n",
        "        hpT = hp*(1+theta[-2]*u**a)*jnp.exp(1.0j*theta[-1]*u**b)\n",
        "        hcT = hc*(1+theta[-2]*u**a)*jnp.exp(1.0j*theta[-1]*u**b)\n",
        "        output[\"p\"] = hpT\n",
        "        output[\"c\"] = hcT\n",
        "        return output\n",
        "\n",
        "    def __repr__(self):\n",
        "        return f\"RippleIMRPhenomD_MGR(f_ref={self.f_ref})\"\n"
      ]
    },
    {
      "cell_type": "code",
      "execution_count": 10,
      "metadata": {
        "id": "0E246ef_1OQ3"
      },
      "outputs": [],
      "source": [
        "import numpy as np\n",
        "\n",
        "# H1 frequency masking\n",
        "ah = H1.frequencies\n",
        "bh = H1.data\n",
        "ch = H1.psd\n",
        "\n",
        "# Find the indices where any of the arrays contains inf\n",
        "mask = np.isinf(ah) | np.isinf(bh) | np.isinf(ch)\n",
        "\n",
        "# Remove the elements where the mask is True\n",
        "H1.frequencies = ah[~mask][:-1]\n",
        "H1.data = bh[~mask][:-1]\n",
        "H1.psd = ch[~mask][:-1]\n",
        "\n",
        "\n",
        "\n",
        "# L1 frequency masking\n",
        "aL = L1.frequencies\n",
        "bL = L1.data\n",
        "cL = L1.psd\n",
        "\n",
        "# Find the indices where any of the arrays contains inf\n",
        "mask = np.isinf(aL) | np.isinf(bL) | np.isinf(cL)\n",
        "\n",
        "# Remove the elements where the mask is True\n",
        "L1.frequencies = aL[~mask]\n",
        "L1.data = bL[~mask]\n",
        "L1.psd = cL[~mask]\n",
        "\n",
        "\n",
        "# V1 frequency masking\n",
        "aV = V1.frequencies\n",
        "bV = V1.data\n",
        "cV = V1.psd\n",
        "\n",
        "# Find the indices where any of the arrays contains inf\n",
        "mask = np.isinf(aV) | np.isinf(bV) | np.isinf(cV)\n",
        "\n",
        "# Remove the elements where the mask is True\n",
        "V1.frequencies = aV[~mask]\n",
        "V1.data = bV[~mask]\n",
        "V1.psd = cV[~mask]\n",
        "\n",
        "\n",
        "\n",
        "\n",
        "\n",
        "gps = 1187008882.43\n",
        "trigger_time = gps\n",
        "fmin = min(H1.frequencies)\n",
        "fmax = max(H1.frequencies)\n",
        "#fmax = 2048\n",
        "minimum_frequency = fmin\n",
        "maximum_frequency = fmax\n",
        "duration = 128\n",
        "post_trigger_duration = 2\n",
        "epoch = duration - post_trigger_duration\n",
        "f_ref = fmin\n",
        "\n",
        "waveform = RippleIMRPhenomD_MGR(f_ref=f_ref)\n",
        "#RippleIMRPhenomD_NRTidalv2(f_ref=f_ref)\n"
      ]
    },
    {
      "cell_type": "code",
      "execution_count": 11,
      "metadata": {
        "colab": {
          "base_uri": "https://localhost:8080/"
        },
        "id": "7A6sZbFh3pUe",
        "outputId": "fbfe6193-1e7e-4125-a9ce-884960427d0d"
      },
      "outputs": [
        {
          "output_type": "execute_result",
          "data": {
            "text/plain": [
              "(259199, 259199, 259199, 259199, 259199, 259199, 259199)"
            ]
          },
          "metadata": {},
          "execution_count": 11
        }
      ],
      "source": [
        "len(H1.data),len(H1.psd),len(H1.frequencies),len(L1.psd),len(L1.frequencies),len(V1.psd),len(V1.frequencies)"
      ]
    },
    {
      "cell_type": "code",
      "execution_count": 12,
      "metadata": {
        "colab": {
          "base_uri": "https://localhost:8080/"
        },
        "id": "Vy8L4ecP7CCT",
        "outputId": "80e11e0a-a279-4e18-e7af-62c18629852e"
      },
      "outputs": [
        {
          "output_type": "execute_result",
          "data": {
            "text/plain": [
              "(np.float64(23.0),\n",
              " np.float64(23.0),\n",
              " np.float64(23.0),\n",
              " np.float64(2047.984375),\n",
              " np.float64(2047.984375),\n",
              " np.float64(2047.984375))"
            ]
          },
          "metadata": {},
          "execution_count": 12
        }
      ],
      "source": [
        "min(H1.frequencies),min(L1.frequencies),min(V1.frequencies),max(H1.frequencies),max(L1.frequencies),max(V1.frequencies)"
      ]
    },
    {
      "cell_type": "code",
      "execution_count": 13,
      "metadata": {
        "colab": {
          "base_uri": "https://localhost:8080/"
        },
        "id": "jpzMZ3fbT5kw",
        "outputId": "5b0f8f5d-784e-40d1-a790-c968da4d9649"
      },
      "outputs": [
        {
          "output_type": "execute_result",
          "data": {
            "text/plain": [
              "(np.float64(23.0), np.float64(2047.984375))"
            ]
          },
          "metadata": {},
          "execution_count": 13
        }
      ],
      "source": [
        "fmin,fmax"
      ]
    },
    {
      "cell_type": "code",
      "execution_count": 14,
      "metadata": {
        "colab": {
          "base_uri": "https://localhost:8080/"
        },
        "id": "xu1sZt113IR3",
        "outputId": "7368ff86-5c43-4292-ef49-29f76b630d5a"
      },
      "outputs": [
        {
          "output_type": "stream",
          "name": "stdout",
          "text": [
            "Array does not contain inf values.\n"
          ]
        }
      ],
      "source": [
        "import numpy as np\n",
        "\n",
        "# Example array\n",
        "\n",
        "\n",
        "# Check if there are any inf values in a\n",
        "contains_inf = np.any(np.isinf(H1.psd))\n",
        "\n",
        "if contains_inf:\n",
        "    print(\"Array contains inf values.\")\n",
        "else:\n",
        "    print(\"Array does not contain inf values.\")\n"
      ]
    },
    {
      "cell_type": "markdown",
      "metadata": {
        "id": "cWQEviYAZWzr"
      },
      "source": []
    },
    {
      "cell_type": "code",
      "execution_count": 14,
      "metadata": {
        "id": "OgXAh2BKZSCf"
      },
      "outputs": [],
      "source": []
    },
    {
      "cell_type": "code",
      "execution_count": 15,
      "metadata": {
        "id": "QOgz9ZvtopY1"
      },
      "outputs": [],
      "source": [
        "# @jaxtyped(typechecker=typechecker)\n",
        "# class GaussianPrior(Prior):\n",
        "#     \"\"\"\n",
        "#     A prior distribution based on a Gaussian (Normal) distribution with arbitrary mu and sigma.\n",
        "\n",
        "#     The probability density function (pdf) of a Gaussian is:\n",
        "#     p(x) = (1 / (sigma * sqrt(2 * pi))) * exp(-(x - mu)^2 / (2 * sigma^2))\n",
        "\n",
        "#     Parameters\n",
        "#     ----------\n",
        "#     mu : float\n",
        "#         The mean of the Gaussian distribution.\n",
        "#     sigma : float\n",
        "#         The standard deviation of the Gaussian distribution.\n",
        "#     parameter_names : list[str]\n",
        "#         A list of names for the parameters of the prior.\n",
        "#     \"\"\"\n",
        "\n",
        "#     mu: float\n",
        "#     sigma: float\n",
        "\n",
        "#     def __repr__(self):\n",
        "#         return f\"GaussianPrior(mu={self.mu}, sigma={self.sigma}, parameter_names={self.parameter_names})\"\n",
        "\n",
        "#     def __init__(self, mu: float, sigma: float, parameter_names: list[str]):\n",
        "#         super().__init__(parameter_names)\n",
        "#         assert self.n_dim == 1, \"GaussianPrior needs to be 1D distributions\"\n",
        "#         self.mu = mu\n",
        "#         self.sigma = sigma\n",
        "\n",
        "#     def sample(\n",
        "#         self, rng_key: PRNGKeyArray, n_samples: int\n",
        "#     ) -> dict[str, Float[Array, \" n_samples\"]]:\n",
        "#         \"\"\"\n",
        "#         Sample from the Gaussian distribution.\n",
        "\n",
        "#         Parameters\n",
        "#         ----------\n",
        "#         rng_key : PRNGKeyArray\n",
        "#             A random key to use for sampling.\n",
        "#         n_samples : int\n",
        "#             The number of samples to draw.\n",
        "\n",
        "#         Returns\n",
        "#         -------\n",
        "#         samples : dict\n",
        "#             Samples from the distribution. The keys are the names of the parameters.\n",
        "\n",
        "#         \"\"\"\n",
        "#         samples = jax.random.normal(rng_key, (n_samples,)) * self.sigma + self.mu\n",
        "#         return self.add_name(samples[None])\n",
        "\n",
        "#     def log_prob(self, z: dict[str, Float]) -> Float:\n",
        "#         \"\"\"\n",
        "#         Calculate the log-probability of the Gaussian distribution at a given value.\n",
        "\n",
        "#         Parameters\n",
        "#         ----------\n",
        "#         z : dict[str, Float]\n",
        "#             A dictionary of parameter values (with parameter names as keys).\n",
        "\n",
        "#         Returns\n",
        "#         -------\n",
        "#         log_prob : float\n",
        "#             The log-probability of the value according to the Gaussian distribution.\n",
        "#         \"\"\"\n",
        "#         variable = z[self.parameter_names[0]]\n",
        "#         return -0.5 * ((variable - self.mu) ** 2) / (self.sigma ** 2) - 0.5 * jnp.log(2 * jnp.pi * self.sigma ** 2)\n"
      ]
    },
    {
      "cell_type": "code",
      "execution_count": 18,
      "metadata": {
        "colab": {
          "base_uri": "https://localhost:8080/"
        },
        "id": "DuIAR0db-opr",
        "outputId": "83a47743-74f4-49e9-b987-8ef1451cd0e1"
      },
      "outputs": [
        {
          "metadata": {
            "tags": null
          },
          "name": "stdout",
          "output_type": "stream",
          "text": [
            "Initializing heterodyned likelihood..\n",
            "Parameters are fixed {'alpha': 0, 'beta': 0}\n",
            "Reference parameters provided, which are {'M_c': 1.1975896, 'eta': 0.2461001, 's1_z': -0.0296672676, 's2_z': 0.0280404568, 'd_L': 42.86331818, 't_c': -5.9354823e-05, 'phase_c': 4.58680356, 'iota': 2.85, 'psi': 3.14, 'ra': 3.44536826, 'dec': -0.408082}\n",
            "Constructing reference waveforms..\n",
            "Using sample transforms\n",
            "['n_dim', 'n_chains', 'n_local_steps', 'n_global_steps', 'n_loop', 'output_thinning', 'verbose']\n"
          ]
        },
        {
          "metadata": {
            "tags": null
          },
          "name": "stderr",
          "output_type": "stream",
          "text": [
            "\rGlobal Tuning:   0%|          | 0/50 [00:00<?, ?it/s]"
          ]
        },
        {
          "metadata": {
            "tags": null
          },
          "name": "stdout",
          "output_type": "stream",
          "text": [
            "LOG LIKELIHOOD: Traced<ShapedArray(float64[])>with<BatchTrace> with\n",
            "  val = Traced<ShapedArray(float64[1000])>with<DynamicJaxprTrace>\n",
            "  batch_dim = 0\n",
            "Compiling MALA body\n",
            "LOG LIKELIHOOD: Traced<ShapedArray(float64[])>with<JVPTrace> with\n",
            "  primal = Traced<ShapedArray(float64[])>with<DynamicJaxprTrace>\n",
            "  tangent = Traced<ShapedArray(float64[])>with<JaxprTrace> with\n",
            "    pval = (ShapedArray(float64[]), None)\n",
            "    recipe = JaxprEqnRecipe(eqn_id=<object object at 0x7c851b85b6e0>, in_tracers=(Traced<ShapedArray(float64[]):JaxprTrace>, Traced<ShapedArray(float64[]):JaxprTrace>), out_tracer_refs=[<weakref at 0x7c851b73a390; to 'JaxprTracer' at 0x7c851b73a340>], out_avals=[ShapedArray(float64[])], primitive=pjit, params={'jaxpr': { lambda ; a:f64[] b:f64[]. let c:f64[] = add a b in (c,) }, 'in_shardings': (UnspecifiedValue, UnspecifiedValue), 'out_shardings': (UnspecifiedValue,), 'in_layouts': (None, None), 'out_layouts': (None,), 'donated_invars': (False, False), 'ctx_mesh': None, 'name': 'add', 'keep_unused': False, 'inline': True, 'compiler_options_kvs': ()}, effects=set(), source_info=<jax._src.source_info_util.SourceInfo object at 0x7c851b724a00>, ctx=JaxprEqnContext(compute_type=None, threefry_partitionable=True, cur_abstract_mesh=AbstractMesh((), axis_types=()), xla_metadata=None))\n",
            "LOG LIKELIHOOD: Traced<ShapedArray(float64[])>with<BatchTrace> with\n",
            "  val = Traced<ShapedArray(float64[1000])>with<DynamicJaxprTrace>\n",
            "  batch_dim = 0\n",
            "LOG LIKELIHOOD: Traced<ShapedArray(float64[])>with<BatchTrace> with\n",
            "  val = Traced<ShapedArray(float64[50000])>with<DynamicJaxprTrace>\n",
            "  batch_dim = 0\n"
          ]
        },
        {
          "output_type": "stream",
          "name": "stderr",
          "text": [
            "Global Tuning: 100%|██████████| 50/50 [1:01:02<00:00, 73.25s/it]\n",
            "Global Sampling: 100%|██████████| 20/20 [17:36<00:00, 52.81s/it]\n"
          ]
        },
        {
          "output_type": "stream",
          "name": "stdout",
          "text": [
            "Training summary\n",
            "==========\n",
            "M_c: 1.197 +/- 0.002\n",
            "d_L: 46.002 +/- 13.449\n",
            "dec: 0.557 +/- 0.377\n",
            "iota: 1.894 +/- 0.831\n",
            "phase_c: 3.109 +/- 1.811\n",
            "psi: 1.270 +/- 0.886\n",
            "q: 0.766 +/- 0.175\n",
            "ra: 2.120 +/- 1.074\n",
            "s1_z: 0.008 +/- 0.022\n",
            "s2_z: -0.003 +/- 0.027\n",
            "t_c: 0.028 +/- 0.016\n",
            "Log probability: 339.958 +/- 3049.444\n",
            "Local acceptance: 0.357 +/- 0.479\n",
            "Global acceptance: 0.002 +/- 0.039\n",
            "Max loss: 22.460, Min loss: 7.185\n",
            "Production summary\n",
            "==========\n",
            "M_c: 1.197 +/- 0.000\n",
            "d_L: 39.511 +/- 10.641\n",
            "dec: 0.665 +/- 0.139\n",
            "iota: 2.092 +/- 0.651\n",
            "phase_c: 3.134 +/- 1.766\n",
            "psi: 1.054 +/- 0.849\n",
            "q: 0.826 +/- 0.102\n",
            "ra: 1.613 +/- 0.288\n",
            "s1_z: 0.015 +/- 0.019\n",
            "s2_z: -0.013 +/- 0.025\n",
            "t_c: 0.035 +/- 0.002\n",
            "Log probability: 496.206 +/- 7.794\n",
            "Local acceptance: 0.192 +/- 0.394\n",
            "Global acceptance: 0.000 +/- 0.006\n",
            "1.331015813615587\n"
          ]
        }
      ],
      "source": [
        "###########################################\n",
        "########## Set up priors ##################\n",
        "###########################################\n",
        "import time\n",
        "t1 = time.time()\n",
        "prior = []\n",
        "\n",
        "# Mass prior\n",
        "M_c_min, M_c_max = 1.18, 1.21\n",
        "q_min, q_max = 0.125, 1.0\n",
        "Mc_prior = UniformPrior(M_c_min, M_c_max, parameter_names=[\"M_c\"])\n",
        "q_prior = UniformPrior(q_min, q_max, parameter_names=[\"q\"])\n",
        "\n",
        "prior = prior + [Mc_prior, q_prior]\n",
        "\n",
        "# Spin prior\n",
        "s1_prior = UniformPrior(-0.05, 0.05, parameter_names=[\"s1_z\"])\n",
        "s2_prior = UniformPrior(-0.05, 0.05, parameter_names=[\"s2_z\"])\n",
        "iota_prior = SinePrior(parameter_names=[\"iota\"])\n",
        "\n",
        "prior = prior + [\n",
        "    s1_prior,\n",
        "    s2_prior,\n",
        "    iota_prior,\n",
        "]\n",
        "\n",
        "# Extrinsic prior\n",
        "dL_prior = UniformPrior(1.0, 75.0, parameter_names=[\"d_L\"])\n",
        "t_c_prior = UniformPrior(-0.1, 0.1, parameter_names=[\"t_c\"])\n",
        "phase_c_prior = UniformPrior(0.0, 2 * jnp.pi, parameter_names=[\"phase_c\"])\n",
        "#lambda_1_prior =UniformPrior(0.0, 5000.0, parameter_names=[\"lambda_1\"])\n",
        "#lambda_2_prior = UniformPrior(0.0, 5000.0, parameter_names=[\"lambda_2\"])\n",
        "psi_prior = UniformPrior(0.0, jnp.pi, parameter_names=[\"psi\"])\n",
        "ra_prior = UniformPrior(0.0, 2 * jnp.pi, parameter_names=[\"ra\"])\n",
        "dec_prior =CosinePrior(parameter_names=[\"dec\"])\n",
        "\n",
        "#alpha_prior = GaussianPrior(0.0, 0.01, parameter_names=[\"alpha\"])\n",
        "beta_prior = UniformPrior(-0.01, 0.01, parameter_names=[\"beta\"])\n",
        "\n",
        "prior = prior + [\n",
        "    dL_prior,\n",
        "    t_c_prior,\n",
        "    phase_c_prior,\n",
        "   #lambda_1_prior,\n",
        "   #lambda_2_prior,\n",
        "    psi_prior,\n",
        "    ra_prior,\n",
        "    dec_prior,\n",
        "   # alpha_prior,\n",
        "   # beta_prior,\n",
        "]\n",
        "\n",
        "prior = CombinePrior(prior)\n",
        "\n",
        "# The following only works if every prior has xmin and xmax property, which is OK for Uniform and Powerlaw\n",
        "# bounds = jnp.array([[p.xmin, p.xmax] for p in prior.priors])\n",
        "\n",
        "# Defining Transforms\n",
        "\n",
        "sample_transforms = [\n",
        "    DistanceToSNRWeightedDistanceTransform(gps_time=gps, ifos=ifos, dL_min=dL_prior.xmin, dL_max=dL_prior.xmax),\n",
        "    GeocentricArrivalPhaseToDetectorArrivalPhaseTransform(gps_time=gps, ifo=ifos[0]),\n",
        "    GeocentricArrivalTimeToDetectorArrivalTimeTransform(tc_min=t_c_prior.xmin, tc_max=t_c_prior.xmax, gps_time=gps, ifo=ifos[0]),\n",
        "    SkyFrameToDetectorFrameSkyPositionTransform(gps_time=gps, ifos=ifos),\n",
        "    BoundToUnbound(name_mapping = ([\"M_c\"], [\"M_c_unbounded\"]), original_lower_bound=M_c_min, original_upper_bound=M_c_max),\n",
        "    BoundToUnbound(name_mapping = ([\"q\"], [\"q_unbounded\"]), original_lower_bound=q_min, original_upper_bound=q_max),\n",
        "    #BoundToUnbound(name_mapping = ([\"lambda_1\"], [\"lambda_1_unbounded\"]), original_lower_bound=0.0, original_upper_bound=5000.0),\n",
        "    #BoundToUnbound(name_mapping = ([\"lambda_2\"], [\"lambda_2_unbounded\"]), original_lower_bound=0.0, original_upper_bound=5000.0),\n",
        "    BoundToUnbound(name_mapping = ([\"s1_z\"], [\"s1_z_unbounded\"]) , original_lower_bound=-0.05, original_upper_bound=0.05),\n",
        "    BoundToUnbound(name_mapping = ([\"s2_z\"], [\"s2_z_unbounded\"]) , original_lower_bound=-0.05, original_upper_bound=0.05),\n",
        "    BoundToUnbound(name_mapping = ([\"iota\"], [\"iota_unbounded\"]) , original_lower_bound=0.0, original_upper_bound=jnp.pi),\n",
        "    BoundToUnbound(name_mapping = ([\"phase_det\"], [\"phase_det_unbounded\"]), original_lower_bound=0.0, original_upper_bound=2 * jnp.pi),\n",
        "    BoundToUnbound(name_mapping = ([\"psi\"], [\"psi_unbounded\"]), original_lower_bound=0.0, original_upper_bound=jnp.pi),\n",
        "    BoundToUnbound(name_mapping = ([\"zenith\"], [\"zenith_unbounded\"]), original_lower_bound=0.0, original_upper_bound=jnp.pi),\n",
        "    BoundToUnbound(name_mapping = ([\"azimuth\"], [\"azimuth_unbounded\"]), original_lower_bound=0.0, original_upper_bound=2 * jnp.pi),\n",
        "   # BoundToUnbound(name_mapping = ([\"beta\"], [\"beta_unbounded\"]) , original_lower_bound=-0.01, original_upper_bound=0.01),\n",
        "    ]\n",
        "\n",
        "\n",
        "likelihood_transforms = [\n",
        "    MassRatioToSymmetricMassRatioTransform,\n",
        "]\n",
        "\n",
        "\n",
        "#likelihood = TransientLikelihoodFD(\n",
        "#    [H1, L1, V1], waveform=waveform, trigger_time=trigger_time, duration=duration, post_trigger_duration=post_trigger_duration\n",
        "#)\n",
        "ref_params = {\n",
        "   'M_c': 1.1975896,\n",
        "   'eta': 0.2461001,\n",
        "   's1_z': -2.96672676e-02,\n",
        "   's2_z': 2.80404568e-02,\n",
        "   #'lambda_1': 791.04366468,\n",
        "   #'lambda_2': 891.04366468,\n",
        "   'd_L': 42.86331818,\n",
        "   't_c': -5.93548230e-05,\n",
        "   'phase_c': 4.58680356e+00,\n",
        "   'iota': 2.85,\n",
        "   'psi': 3.14,\n",
        "   'ra': 3.44536826,\n",
        "   'dec': -0.408082,\n",
        "  # 'alpha':0.0,\n",
        "  # 'beta':0.0\n",
        "}\n",
        "\n",
        "# likelihood = HeterodynedTransientLikelihoodFD(ifos, waveform=waveform,ref_params=ref_params,fixing_parameters={\"alpha\":0.0,\"beta\":0}, n_bins = 1000, trigger_time=trigger_time, duration=duration, post_trigger_duration=post_trigger_duration, prior = prior,sample_transforms = sample_transforms,likelihood_transforms = likelihood_transforms, popsize = 500, n_steps = 3000) #\n",
        "likelihood = HeterodynedTransientLikelihoodFD(ifos, waveform=waveform,ref_params=ref_params,fixing_parameters={\"alpha\":0,\"beta\":0}, n_bins = 1000, trigger_time=trigger_time, duration=duration, post_trigger_duration=post_trigger_duration, prior = prior, sample_transforms = sample_transforms, likelihood_transforms = likelihood_transforms, popsize = 500, n_steps = 5000)\n",
        "\n",
        "\n",
        "eps = 1e-3\n",
        "n_dim = 11 #13\n",
        "mass_matrix = jnp.eye(n_dim)\n",
        "#mass_matrix = mass_matrix.at[0,0].set(1e-5)\n",
        "#mass_matrix = mass_matrix.at[1,1].set(1e-4)\n",
        "#mass_matrix = mass_matrix.at[2,2].set(1e-3)\n",
        "#mass_matrix = mass_matrix.at[3,3].set(1e-3)\n",
        "#mass_matrix = mass_matrix.at[5,5].set(1e-5) #mass_matrix = mass_matrix.at[7,7].set(1e-5)\n",
        "#mass_matrix = mass_matrix.at[9,9].set(1e-2)#mass_matrix = mass_matrix.at[11,11].set(1e-2)\n",
        "#mass_matrix = mass_matrix.at[10,10].set(1e-2)#mass_matrix = mass_matrix.at[12,12].set(1e-2)\n",
        "local_sampler_arg = {\"step_size\": mass_matrix * eps}\n",
        "\n",
        "Adam_optimizer = optimization_Adam(n_steps=3000, learning_rate=0.01, noise_level=1)\n",
        "\n",
        "import optax\n",
        "\n",
        "n_loop_training = 50\n",
        "n_epochs = 20\n",
        "total_epochs = n_epochs * n_loop_training\n",
        "start = int(total_epochs / 10)\n",
        "start_lr = 1e-3\n",
        "end_lr = 1e-5\n",
        "power = 4.0\n",
        "schedule_fn = optax.polynomial_schedule(\n",
        "    start_lr, end_lr, power, total_epochs-start, transition_begin=start)\n",
        "\n",
        "scheduler_str = f\"polynomial_schedule({start_lr}, {end_lr}, {power}, {total_epochs-start}, {start})\"\n",
        "\n",
        "# Choose between fixed learning rate - or - the above scheduler here\n",
        "\n",
        "# learning_rate = 1e-3\n",
        "learning_rate = schedule_fn\n",
        "\n",
        "jim = Jim(\n",
        "    likelihood,\n",
        "    prior,\n",
        "    sample_transforms=sample_transforms,\n",
        "    likelihood_transforms=likelihood_transforms,\n",
        "    n_loop_training=n_loop_training,\n",
        "    n_loop_production=20,\n",
        "    n_local_steps=100,\n",
        "    n_global_steps=500,\n",
        "    n_chains=1000,\n",
        "    n_epochs =n_epochs,\n",
        "    learning_rate=learning_rate,\n",
        "    n_max_examples=30000,\n",
        "    n_flow_sample=50000,\n",
        "    momentum=0.9,\n",
        "    batch_size=50000,\n",
        "    use_global=True,\n",
        "    keep_quantile=0.0,\n",
        "    train_thinning=50,\n",
        "    output_thinning=50,\n",
        "    local_sampler_arg=local_sampler_arg,\n",
        "    stopping_criterion_global_acc = 0.2\n",
        "    #strategies=[Adam_optimizer,\"default\"],\n",
        ")\n",
        "\n",
        "\n",
        "\n",
        "\n",
        "jim.sample(jax.random.PRNGKey(42))\n",
        "jim.print_summary()\n",
        "t2 = time.time()\n",
        "print((t2-t1)/3600)"
      ]
    },
    {
      "cell_type": "code",
      "execution_count": 19,
      "metadata": {
        "id": "kTaGqGXNYSWY",
        "colab": {
          "base_uri": "https://localhost:8080/",
          "height": 190
        },
        "outputId": "89c3be41-afb9-4598-ffdc-273b22143b33"
      },
      "outputs": [
        {
          "output_type": "error",
          "ename": "KeyError",
          "evalue": "'beta'",
          "traceback": [
            "\u001b[0;31m---------------------------------------------------------------------------\u001b[0m",
            "\u001b[0;31mKeyError\u001b[0m                                  Traceback (most recent call last)",
            "\u001b[0;32m<ipython-input-19-2a0f5dced632>\u001b[0m in \u001b[0;36m<cell line: 0>\u001b[0;34m()\u001b[0m\n\u001b[1;32m      2\u001b[0m \u001b[0;31m#import corner\u001b[0m\u001b[0;34m\u001b[0m\u001b[0;34m\u001b[0m\u001b[0m\n\u001b[1;32m      3\u001b[0m \u001b[0msamples\u001b[0m \u001b[0;34m=\u001b[0m \u001b[0mjim\u001b[0m\u001b[0;34m.\u001b[0m\u001b[0mget_samples\u001b[0m\u001b[0;34m(\u001b[0m\u001b[0;34m)\u001b[0m\u001b[0;34m\u001b[0m\u001b[0;34m\u001b[0m\u001b[0m\n\u001b[0;32m----> 4\u001b[0;31m \u001b[0mDL\u001b[0m \u001b[0;34m=\u001b[0m \u001b[0mnp\u001b[0m\u001b[0;34m.\u001b[0m\u001b[0marray\u001b[0m\u001b[0;34m(\u001b[0m\u001b[0msamples\u001b[0m\u001b[0;34m[\u001b[0m\u001b[0;34m\"beta\"\u001b[0m\u001b[0;34m]\u001b[0m\u001b[0;34m)\u001b[0m\u001b[0;34m\u001b[0m\u001b[0;34m\u001b[0m\u001b[0m\n\u001b[0m\u001b[1;32m      5\u001b[0m \u001b[0mnp\u001b[0m\u001b[0;34m.\u001b[0m\u001b[0mmedian\u001b[0m\u001b[0;34m(\u001b[0m\u001b[0mDL\u001b[0m\u001b[0;34m)\u001b[0m\u001b[0;34m,\u001b[0m\u001b[0mnp\u001b[0m\u001b[0;34m.\u001b[0m\u001b[0mstd\u001b[0m\u001b[0;34m(\u001b[0m\u001b[0mDL\u001b[0m\u001b[0;34m)\u001b[0m\u001b[0;34m\u001b[0m\u001b[0;34m\u001b[0m\u001b[0m\n",
            "\u001b[0;31mKeyError\u001b[0m: 'beta'"
          ]
        }
      ],
      "source": [
        "import numpy as np\n",
        "#import corner\n",
        "samples = jim.get_samples()\n",
        "DL = np.array(samples[\"beta\"])\n",
        "np.median(DL),np.std(DL)"
      ]
    },
    {
      "cell_type": "code",
      "execution_count": null,
      "metadata": {
        "id": "y1iVAHs5VgP5"
      },
      "outputs": [],
      "source": [
        "import pandas as pd\n",
        "\n",
        "df = pd.DataFrame(samples)\n",
        "\n",
        "# Save the DataFrame to a CSV file\n",
        "df.to_csv('GW170817_GR_11_PARAM_manual_data_with_psd_normal_dL.csv', index=False)"
      ]
    },
    {
      "cell_type": "code",
      "execution_count": null,
      "metadata": {
        "id": "8cl_PIdHLDwj"
      },
      "outputs": [],
      "source": [
        "import seaborn as sns\n",
        "sns.distplot(DL)"
      ]
    },
    {
      "cell_type": "code",
      "execution_count": null,
      "metadata": {
        "id": "dDuQPuueU0t1"
      },
      "outputs": [],
      "source": [
        "import corner\n",
        "import numpy as np\n",
        "import matplotlib.pyplot as plt\n",
        "data = np.vstack([value for value in samples.values()]).T\n",
        "\n",
        "# Create corner plot\n",
        "fig = corner.corner(data, labels=list(samples.keys()),title_kwargs={'fontsize': 30},  # Increase title font size\n",
        "    label_kwargs={'fontsize': 20}, show_titles=True)\n",
        "plt.savefig(\"GW170817_GR_11_PARAM_manual_data_lambda.pdf\")\n",
        "# Show the plot\n",
        "plt.show()"
      ]
    },
    {
      "cell_type": "code",
      "execution_count": null,
      "metadata": {
        "id": "G_l5inF7VChB"
      },
      "outputs": [],
      "source": [
        "jim.print_summary()"
      ]
    },
    {
      "cell_type": "code",
      "execution_count": null,
      "metadata": {
        "id": "CoSvxm5Np6Y4"
      },
      "outputs": [],
      "source": [
        "import numpy as np\n",
        "import arviz as az\n",
        "\n",
        "\n",
        "\n",
        "# Step 1: Reshape the samples to simulate multiple chains (assuming 2 chains)\n",
        "# We split the long array into 2 chains. Adjust the shape as needed.\n",
        "num_chains = 2\n",
        "num_iterations = len(samples['M_c']) // num_chains  # Total samples / number of chains\n",
        "\n",
        "samples_reshaped = {param: np.reshape(sample, (num_chains, num_iterations)) for param, sample in samples.items()}\n",
        "\n",
        "# Step 2: Convert to Arviz InferenceData format\n",
        "inference_data = az.from_dict(posterior=samples_reshaped)\n",
        "\n",
        "# Step 3: Calculate Gelman-Rubin (Rhat)\n",
        "rhat_values = az.rhat(inference_data)\n",
        "print(\"Gelman-Rubin (Rhat) Values:\\n\", rhat_values)\n",
        "\n",
        "# Step 4: Calculate Effective Sample Size (ESS)\n",
        "ess_values = az.ess(inference_data)\n",
        "print(\"\\nEffective Sample Size (ESS):\\n\", ess_values)\n",
        "\n",
        "# Optional: Visualize trace and autocorrelation plots\n",
        "# az.plot_trace(inference_data)\n",
        "# az.plot_autocorr(inference_data)\n"
      ]
    },
    {
      "cell_type": "code",
      "execution_count": null,
      "metadata": {
        "id": "XOmMx4st7X9x"
      },
      "outputs": [],
      "source": [
        "samples"
      ]
    },
    {
      "cell_type": "code",
      "execution_count": null,
      "metadata": {
        "id": "iR9VvGOM88FG"
      },
      "outputs": [],
      "source": []
    }
  ],
  "metadata": {
    "accelerator": "GPU",
    "colab": {
      "gpuType": "T4",
      "provenance": []
    },
    "kernelspec": {
      "display_name": "Python 3",
      "name": "python3"
    },
    "language_info": {
      "name": "python"
    }
  },
  "nbformat": 4,
  "nbformat_minor": 0
}
